{
 "cells": [
  {
   "cell_type": "markdown",
   "metadata": {},
   "source": [
    "## Primer: Navigating the File System and Basic Read/Write  \n",
    "\n",
    "Understanding how to navigate the file system of your computer's operating system is essential, and it's a common source of errors for beginners (ahem.. as well as experience) Python programmers.  \n",
    "\n",
    "Let's walk through some basics.  \n",
    "\n",
    "**Nomenclature**  \n",
    "*Working Directory* refers to your current directory or folder. \n",
    "\n",
    "We'll start by making a variable of our current working directory. \n",
    "\n",
    "```python\n",
    "dir = 'C:\\Users\\phwh9568\\Workshops\\Python_Data_Camp' # this is mine, but yours will look different\n",
    "```"
   ]
  },
  {
   "cell_type": "code",
   "execution_count": null,
   "metadata": {},
   "outputs": [],
   "source": []
  },
  {
   "cell_type": "markdown",
   "metadata": {},
   "source": [
    "Oops! What is going on here?  Did anyone ***not*** get this error?  \n",
    "\n",
    "```python\n",
    "print('test\\test')\n",
    "```"
   ]
  },
  {
   "cell_type": "code",
   "execution_count": null,
   "metadata": {},
   "outputs": [],
   "source": []
  },
  {
   "cell_type": "markdown",
   "metadata": {},
   "source": [
    "Hm.... Turns out ```\\``` is an escape character.  \n",
    "\n",
    "What is an [escape character](https://www.w3schools.com/python/gloss_python_escape_characters.asp)?  \n",
    "\n",
    "```python\n",
    "print('test\\test')\n",
    "print('test\\ttest')\n",
    "print('test\\ntest')\n",
    "```"
   ]
  },
  {
   "cell_type": "code",
   "execution_count": null,
   "metadata": {},
   "outputs": [],
   "source": []
  },
  {
   "cell_type": "markdown",
   "metadata": {},
   "source": [
    "```python\n",
    "print('Hi, what's your name?')\n",
    "print(\"Hi, what's your name?\")\n",
    "print('Hi, what\\'s your name?')\n",
    "```"
   ]
  },
  {
   "cell_type": "code",
   "execution_count": null,
   "metadata": {},
   "outputs": [],
   "source": []
  },
  {
   "cell_type": "markdown",
   "metadata": {},
   "source": [
    "Microsoft just doesn't want to make things easy on us...  \n",
    "\n",
    "For Windows users, there are a couple of ways to get through this:\n",
    "\n",
    "```python\n",
    "dir = 'C:\\\\Users\\\\phwh9568\\\\Workshops\\\\Python_Data_Camp' # annoying\n",
    "```"
   ]
  },
  {
   "cell_type": "code",
   "execution_count": null,
   "metadata": {},
   "outputs": [],
   "source": []
  },
  {
   "cell_type": "markdown",
   "metadata": {},
   "source": [
    "**Now**, where were we?  \n",
    "\n",
    "Okay, there are some differences worth noting about how paths work on Windows vs Mac.  \n",
    "\n",
    "```\\``` is a back slash. Windows uses back slashes.  \n",
    "```/``` is a forward slash. Mac and Linux use forward slashes.  \n",
    "\n",
    "*Why*, Microsoft? ***WHY?!?!?!***  \n",
    "\n",
    "However, rather than ```\\\\```, there is an easier way that can also make your file paths more interoperable:  \n",
    "\n",
    "```python\n",
    "dir = r'C:/Users/phwh9568/Workshops/Python_Data_Camp' \n",
    "```  \n",
    "The ```r''``` syntax is called a raw string. "
   ]
  },
  {
   "cell_type": "code",
   "execution_count": null,
   "metadata": {},
   "outputs": [],
   "source": []
  },
  {
   "cell_type": "markdown",
   "metadata": {},
   "source": [
    "### Let's now read a file.  \n",
    "\n",
    "For now, use string concatenation to construct the full path to a file:  \n",
    "\n",
    "```python\n",
    "file = r'C:/Users/phwh9568/Workshops/Python_Data_Camp' + r'/data/demofile.txt'\n",
    "```  \n",
    "\n",
    "Watch out for typos... "
   ]
  },
  {
   "cell_type": "code",
   "execution_count": null,
   "metadata": {},
   "outputs": [],
   "source": []
  },
  {
   "cell_type": "markdown",
   "metadata": {},
   "source": [
    "Now, we'll open that file using the ```open()``` function. The first parameter is our file path, the second parameter ```'r'``` indicates we're opening in read mode:  \n",
    "\n",
    "```python\n",
    "open(file, 'r') \n",
    "```"
   ]
  },
  {
   "cell_type": "code",
   "execution_count": null,
   "metadata": {},
   "outputs": [],
   "source": []
  },
  {
   "cell_type": "markdown",
   "metadata": {},
   "source": [
    "Okay, so not much happenning there... let's call it to a variable:  \n",
    "\n",
    "```python\n",
    "data = open(file,'r')\n",
    "```"
   ]
  },
  {
   "cell_type": "code",
   "execution_count": null,
   "metadata": {},
   "outputs": [],
   "source": []
  },
  {
   "cell_type": "markdown",
   "metadata": {},
   "source": [
    "Okay, let's use the ```.read()``` method:  \n",
    "\n",
    "```python\n",
    "data.read()\n",
    "```"
   ]
  },
  {
   "cell_type": "code",
   "execution_count": null,
   "metadata": {},
   "outputs": [],
   "source": []
  },
  {
   "cell_type": "markdown",
   "metadata": {},
   "source": [
    "What's going on here?  \n",
    "\n",
    "Now, let's try one line at a time...  \n",
    "\n",
    "```python\n",
    "data.readline()\n",
    "``` "
   ]
  },
  {
   "cell_type": "code",
   "execution_count": null,
   "metadata": {},
   "outputs": [],
   "source": []
  },
  {
   "cell_type": "markdown",
   "metadata": {},
   "source": [
    "Hm.  \n",
    "\n",
    "In Python, when reading simple files, often you read line by line, and we happened to read them all in one go. So, we need to go back to the top:  \n",
    "\n",
    "```python\n",
    "data.seek(0) # Why the 0?\n",
    "```"
   ]
  },
  {
   "cell_type": "code",
   "execution_count": null,
   "metadata": {},
   "outputs": [],
   "source": []
  },
  {
   "cell_type": "code",
   "execution_count": null,
   "metadata": {},
   "outputs": [],
   "source": []
  },
  {
   "cell_type": "markdown",
   "metadata": {},
   "source": [
    "Let's close the file. It is good practice to *always* close your files when you're done manipulating them:  \n",
    "\n",
    "```python\n",
    "data.close()\n",
    "```"
   ]
  },
  {
   "cell_type": "code",
   "execution_count": null,
   "metadata": {},
   "outputs": [],
   "source": []
  },
  {
   "cell_type": "markdown",
   "metadata": {},
   "source": [
    "Okay, we'll come back to reading/writing files in a few minutes...   \n",
    "\n",
    "\n",
    "### Making paths easier: the OS module.  \n",
    "\n",
    "Now that you have a fundamental understanding of paths, let's streamline.  \n",
    "\n",
    "```python\n",
    "import os\n",
    "```"
   ]
  },
  {
   "cell_type": "code",
   "execution_count": null,
   "metadata": {},
   "outputs": [],
   "source": []
  },
  {
   "cell_type": "markdown",
   "metadata": {},
   "source": [
    "OS is an extremely useful module for helping navigate your file system. \n",
    "\n",
    "It is useful for creating paths, checking the existence of files or directories, checking your current working directory, generating lists of files, and more.  \n",
    "\n",
    "Rather than typing out paths manually (and risk typos and slash issues), we can have os construct them for us.  \n",
    "\n",
    "Let's start with some variables:  \n",
    "\n",
    "```python\n",
    "proj_dir = r'C:/Users/phwh9568/Workshops/Python_Data_Camp'\n",
    "fileName = 'demofile.txt'\n",
    "```"
   ]
  },
  {
   "cell_type": "code",
   "execution_count": null,
   "metadata": {},
   "outputs": [],
   "source": []
  },
  {
   "cell_type": "markdown",
   "metadata": {},
   "source": [
    "We'll construct our file path using ```os.path.join()```:  \n",
    "\n",
    "First make a data directory variable:\n",
    "```python\n",
    "data_dir = os.path.join(proj_dir,'data')\n",
    "```  \n",
    "\n",
    "Then make the path to the file:  \n",
    "```python\n",
    "f = os.path.join(data_dir,fileName)\n",
    "```"
   ]
  },
  {
   "cell_type": "code",
   "execution_count": null,
   "metadata": {},
   "outputs": [],
   "source": []
  },
  {
   "cell_type": "code",
   "execution_count": null,
   "metadata": {},
   "outputs": [],
   "source": []
  },
  {
   "cell_type": "markdown",
   "metadata": {},
   "source": [
    "Check to see if it exists:  \n",
    "\n",
    "```python\n",
    "os.path.exits(f)\n",
    "```"
   ]
  },
  {
   "cell_type": "code",
   "execution_count": null,
   "metadata": {},
   "outputs": [],
   "source": []
  },
  {
   "cell_type": "markdown",
   "metadata": {},
   "source": [
    "tip: There are a lot of other useful OS functions and methods, including [```os.mkdir()```](https://docs.python.org/3/library/os.html#os.mkdir) and ```os.getcwd()```.  \n",
    "\n",
    "\n",
    "Let's check to make sure that all works:  \n",
    "\n",
    "1. Print the path to make sure it looks right\n",
    "2. Open the file\n",
    "3. Read the contents of the file\n",
    "4. Close the file"
   ]
  },
  {
   "cell_type": "code",
   "execution_count": null,
   "metadata": {},
   "outputs": [],
   "source": []
  },
  {
   "cell_type": "code",
   "execution_count": null,
   "metadata": {},
   "outputs": [],
   "source": []
  },
  {
   "cell_type": "code",
   "execution_count": null,
   "metadata": {},
   "outputs": [],
   "source": []
  },
  {
   "cell_type": "code",
   "execution_count": null,
   "metadata": {},
   "outputs": [],
   "source": []
  },
  {
   "cell_type": "markdown",
   "metadata": {},
   "source": [
    "Let's open it this time in write mode:  \n",
    "\n",
    "```python\n",
    "data = open(f,'w')\n",
    "```"
   ]
  },
  {
   "cell_type": "code",
   "execution_count": null,
   "metadata": {},
   "outputs": [],
   "source": []
  },
  {
   "cell_type": "code",
   "execution_count": null,
   "metadata": {},
   "outputs": [],
   "source": []
  },
  {
   "cell_type": "markdown",
   "metadata": {},
   "source": [
    "Hm....   \n",
    "\n",
    "\n",
    "\n",
    "Okay, not readable....  \n",
    "\n",
    "Let's write a new line:  \n",
    "\n",
    "```python\n",
    "data.write('test')"
   ]
  },
  {
   "cell_type": "code",
   "execution_count": null,
   "metadata": {},
   "outputs": [],
   "source": []
  },
  {
   "cell_type": "code",
   "execution_count": null,
   "metadata": {},
   "outputs": [],
   "source": []
  },
  {
   "cell_type": "markdown",
   "metadata": {},
   "source": [
    "Open demofile.txt separately... what happened here?  \n",
    "  \n",
    "  \n",
    "  \n",
    "  \n",
    "  \n",
    "Woops.  Got to be careful when using write mode! There can be unintended consequences.\n",
    "\n",
    "\n",
    "Let's fix it. Start with a list of the values we want:  \n",
    "\n",
    "```python\n",
    "numList = [10,20,30,40,50,60,70,80,90,100]\n",
    "```"
   ]
  },
  {
   "cell_type": "code",
   "execution_count": null,
   "metadata": {},
   "outputs": [],
   "source": []
  },
  {
   "cell_type": "markdown",
   "metadata": {},
   "source": [
    "Or, alternatively, you could construct this using the [```range()```](https://www.w3schools.com/python/ref_func_range.asp) function. "
   ]
  },
  {
   "cell_type": "code",
   "execution_count": null,
   "metadata": {},
   "outputs": [],
   "source": []
  },
  {
   "cell_type": "markdown",
   "metadata": {},
   "source": [
    "Now open our file again in write mode:  \n",
    "\n",
    "```python\n",
    "data = open(f,'w')\n",
    "```"
   ]
  },
  {
   "cell_type": "code",
   "execution_count": null,
   "metadata": {},
   "outputs": [],
   "source": []
  },
  {
   "cell_type": "markdown",
   "metadata": {},
   "source": [
    "Start by constructing a loop of our number list:  \n",
    "\n",
    "```python\n",
    "for n in numList:\n",
    "    print(n)\n",
    "```"
   ]
  },
  {
   "cell_type": "code",
   "execution_count": null,
   "metadata": {},
   "outputs": [],
   "source": []
  },
  {
   "cell_type": "markdown",
   "metadata": {},
   "source": [
    "Let's try adding the ```.write()``` method into our loop:"
   ]
  },
  {
   "cell_type": "code",
   "execution_count": null,
   "metadata": {},
   "outputs": [],
   "source": []
  },
  {
   "cell_type": "markdown",
   "metadata": {},
   "source": [
    "Oops... needs to be a string. Okay...  \n",
    "\n",
    "We can use the ```str()``` function to convert to string.  \n",
    "\n",
    "Test it:  \n",
    "\n",
    "```python\n",
    "type(str(1))\n",
    "```"
   ]
  },
  {
   "cell_type": "code",
   "execution_count": null,
   "metadata": {},
   "outputs": [],
   "source": []
  },
  {
   "cell_type": "markdown",
   "metadata": {},
   "source": [
    "Okay, back to our loop:"
   ]
  },
  {
   "cell_type": "code",
   "execution_count": null,
   "metadata": {},
   "outputs": [],
   "source": [
    "data = open(f,'w')\n",
    "\n",
    "for n in numList:\n",
    "    data.write(str(n))\n",
    "\n",
    "data.close()"
   ]
  },
  {
   "cell_type": "markdown",
   "metadata": {},
   "source": [
    "Did that work?  \n",
    "\n",
    "\n",
    "Ehhhhh... close but not quite. What is missing here?  \n",
    "\n",
    "\n"
   ]
  },
  {
   "cell_type": "code",
   "execution_count": null,
   "metadata": {},
   "outputs": [],
   "source": []
  },
  {
   "cell_type": "markdown",
   "metadata": {},
   "source": [
    "Try again:"
   ]
  },
  {
   "cell_type": "code",
   "execution_count": null,
   "metadata": {},
   "outputs": [],
   "source": []
  },
  {
   "cell_type": "markdown",
   "metadata": {},
   "source": [
    "Or, alternatively, you will often see files opened using a ```with``` statement.  This closes the file automatically when the statement ends.  \n",
    "```python\n",
    "with open(os.path.join(data_dir,fileName), 'w') as f:\n",
    "    for n in numList:\n",
    "        f.write(str(n)+'\\n')\n",
    "```"
   ]
  },
  {
   "cell_type": "code",
   "execution_count": null,
   "metadata": {},
   "outputs": [],
   "source": []
  }
 ],
 "metadata": {
  "kernelspec": {
   "display_name": "Python 3 (ipykernel)",
   "language": "python",
   "name": "python3"
  },
  "language_info": {
   "codemirror_mode": {
    "name": "ipython",
    "version": 3
   },
   "file_extension": ".py",
   "mimetype": "text/x-python",
   "name": "python",
   "nbconvert_exporter": "python",
   "pygments_lexer": "ipython3",
   "version": "3.12.4"
  }
 },
 "nbformat": 4,
 "nbformat_minor": 4
}
