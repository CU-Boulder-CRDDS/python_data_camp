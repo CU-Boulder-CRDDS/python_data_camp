{
 "cells": [
  {
   "cell_type": "markdown",
   "metadata": {},
   "source": [
    "## Python Basics  \n",
    "We definitely can't teach you everything in a day, but hopefully we can get you going in the right direction.  \n",
    "\n",
    "In this notebook we'll cover:\n",
    "- Variables\n",
    "- Common data types\n",
    "- Indexing\n",
    "- Control flow\n",
    "- Logical operators\n",
    "- lists\n",
    "- iterating with for and while loops\n",
    "- importing other libraries\n",
    "\n",
    "### Let's get started!\n",
    "\n",
    "The All Important print function:\n",
    "```python\n",
    "print('hello world')\n",
    "```"
   ]
  },
  {
   "cell_type": "code",
   "execution_count": null,
   "metadata": {},
   "outputs": [],
   "source": []
  },
  {
   "cell_type": "markdown",
   "metadata": {},
   "source": [
    "In this example, ```hello world``` is a text string aka **string**.  \n",
    "\n",
    "We told Python to print it using the ```print()``` function.  \n",
    " \n",
    "\n",
    "In Python, a function is some \"command\" followed by input parameter(s) in parentheses... :  \n",
    "```someFunction(input)``` or ```someFunction(input1,input2)```. ```print()``` is a function.  \n",
    "\n",
    "You can—*and should*—write your own functions, but that's slightly out of scope for today. If you're a beginner, for today think of a function as some pre-written code you can use that completes some task.\n",
    "\n",
    "------------\n",
    "\n",
    "\n",
    "### Variables  \n",
    "You declare variables with an equals sign ```=```  \n",
    "\n",
    "```python\n",
    "my_var = 'hello world'\n",
    "```"
   ]
  },
  {
   "cell_type": "code",
   "execution_count": null,
   "metadata": {},
   "outputs": [],
   "source": []
  },
  {
   "cell_type": "markdown",
   "metadata": {},
   "source": [
    "```python\n",
    "my_var\n",
    "```"
   ]
  },
  {
   "cell_type": "code",
   "execution_count": null,
   "metadata": {},
   "outputs": [],
   "source": []
  },
  {
   "cell_type": "markdown",
   "metadata": {},
   "source": [
    "```python\n",
    "print(my_var)\n",
    "```"
   ]
  },
  {
   "cell_type": "code",
   "execution_count": null,
   "metadata": {},
   "outputs": [],
   "source": []
  },
  {
   "cell_type": "markdown",
   "metadata": {},
   "source": [
    "If you don't like it, just reassign it:\n",
    "\n",
    "```python\n",
    "my_var = 'whatever!'\n",
    "```"
   ]
  },
  {
   "cell_type": "code",
   "execution_count": null,
   "metadata": {},
   "outputs": [],
   "source": []
  },
  {
   "cell_type": "markdown",
   "metadata": {},
   "source": [
    "String concatenation:  \n",
    "\n",
    "To put to string sequences together, use a plus sign ```+```  \n",
    "\n",
    "```python\n",
    "print('Hello World' + 'My name is Screwball')\n",
    "```"
   ]
  },
  {
   "cell_type": "code",
   "execution_count": null,
   "metadata": {},
   "outputs": [],
   "source": []
  },
  {
   "cell_type": "markdown",
   "metadata": {},
   "source": [
    "```python\n",
    "print(my_var + ', Screwball!')\n",
    "```"
   ]
  },
  {
   "cell_type": "code",
   "execution_count": null,
   "metadata": {},
   "outputs": [],
   "source": []
  },
  {
   "cell_type": "markdown",
   "metadata": {},
   "source": [
    "A variable can be anything.  \n",
    "\n",
    "_________\n",
    "\n",
    "\n",
    "### Data types  \n",
    "There are several [data types and structures](https://www.geeksforgeeks.org/python-data-types/). Today, we'll concern ourselves with the most used:\n",
    "\n",
    "- String (text)\n",
    "- Integer (numbers) \n",
    "- Float (also numbers) \n",
    "- List (a list of values)\n",
    "- Tuple (kind of like a list)\n",
    "- Dictionary (key and value pairs)  \n",
    "\n",
    "These and others are built into Python. There are many more that can be imported with other libraries (more on that later). \n",
    "\n",
    "You can find out what type you're working with using the ```type()``` function:\n",
    "\n",
    "```python\n",
    "type(my_var)\n",
    "```"
   ]
  },
  {
   "cell_type": "code",
   "execution_count": null,
   "metadata": {},
   "outputs": [],
   "source": []
  },
  {
   "cell_type": "markdown",
   "metadata": {},
   "source": [
    "That's a string. Strings are declared using single or double quotes (pretty much interchangeable).  \n",
    "\n",
    "```python\n",
    "my_var2 = 1\n",
    "\n",
    "print(type(my_var2))\n",
    "```"
   ]
  },
  {
   "cell_type": "code",
   "execution_count": null,
   "metadata": {},
   "outputs": [],
   "source": []
  },
  {
   "cell_type": "markdown",
   "metadata": {},
   "source": [
    "Just some useful string methods: \n",
    "\n",
    "```len()```\n",
    "```.split()```\n",
    "```.replace()```\n",
    "```.lower()```\n",
    "```.upper()```\n",
    "```.startswith()```\n",
    "```.strip()```\n",
    "```.find()```  \n",
    "\n",
    "[More](https://www.w3schools.com/python/python_ref_string.asp). \n",
    "\n",
    "Try a few:\n",
    "\n",
    "```python\n",
    "my_var.upper()\n",
    "```\n"
   ]
  },
  {
   "cell_type": "code",
   "execution_count": null,
   "metadata": {},
   "outputs": [],
   "source": []
  },
  {
   "cell_type": "markdown",
   "metadata": {},
   "source": [
    "Can we mix data types?  \n",
    "\n",
    "```python\n",
    "my_var + my_var2\n",
    "```"
   ]
  },
  {
   "cell_type": "code",
   "execution_count": null,
   "metadata": {},
   "outputs": [],
   "source": []
  },
  {
   "cell_type": "markdown",
   "metadata": {},
   "source": [
    "```python\n",
    "my_var + \", it's me.\"\n",
    "```"
   ]
  },
  {
   "cell_type": "code",
   "execution_count": null,
   "metadata": {},
   "outputs": [],
   "source": []
  },
  {
   "cell_type": "markdown",
   "metadata": {},
   "source": [
    "```python\n",
    "my_var2 + 5\n",
    "```"
   ]
  },
  {
   "cell_type": "code",
   "execution_count": null,
   "metadata": {},
   "outputs": [],
   "source": []
  },
  {
   "cell_type": "markdown",
   "metadata": {},
   "source": [
    "__________________\n",
    "\n",
    "#### Operators:\n",
    "[There are many](https://www.w3schools.com/python/python_operators.asp).\n",
    "\n",
    "**Arithmetic** pretty much behave as you would think:  \n",
    "```+```, ```-```, ```*```, ```/```, as well as  ```**``` exponential, ```%``` modulus, ```//``` floor.   \n",
    "\n",
    "**Comparison**  \n",
    "```==``` equal, ```!=``` not equal, ```>```, ```>=```, ```<```, ```<=```  \n",
    "\n",
    "**Logical**  \n",
    "```and```, ```or```, ```not```\n"
   ]
  },
  {
   "cell_type": "code",
   "execution_count": null,
   "metadata": {},
   "outputs": [],
   "source": []
  },
  {
   "cell_type": "markdown",
   "metadata": {},
   "source": [
    "*Bonus:* ```+=``` is very useful."
   ]
  },
  {
   "cell_type": "code",
   "execution_count": null,
   "metadata": {},
   "outputs": [],
   "source": []
  },
  {
   "cell_type": "code",
   "execution_count": null,
   "metadata": {},
   "outputs": [],
   "source": []
  },
  {
   "cell_type": "markdown",
   "metadata": {},
   "source": [
    "________\n",
    "\n",
    "\n",
    "### Control Flow:  \n",
    "Use ```if```, ```else```, and ```elif``` to control the flow of your process.  \n",
    "\n",
    "```python\n",
    "var1 = 1\n",
    "\n",
    "if var1 == 1: # boolean check if value equals 1\n",
    "    print('yes') # print yes if True \n",
    "else:\n",
    "    print('no') # print no if False\n",
    "```"
   ]
  },
  {
   "cell_type": "code",
   "execution_count": null,
   "metadata": {},
   "outputs": [],
   "source": []
  },
  {
   "cell_type": "markdown",
   "metadata": {},
   "source": [
    "### Lists:  \n",
    "You create lists using brackets: ```[]```  \n",
    "\n",
    "```python\n",
    "my_list = ['a','b','c'] \n",
    "\n",
    "print(my_list)\n",
    "```"
   ]
  },
  {
   "cell_type": "code",
   "execution_count": null,
   "metadata": {},
   "outputs": [],
   "source": []
  },
  {
   "cell_type": "markdown",
   "metadata": {},
   "source": [
    "The ```.append()``` list method is very useful for populating lists:  \n",
    "\n",
    "Create an empty list:\n",
    "\n",
    "```python \n",
    "new_list = []\n",
    "```\n",
    "\n",
    "Then use append to add new items:\n",
    "\n",
    "```python\n",
    "new_list.append('item1')\n",
    "```"
   ]
  },
  {
   "cell_type": "code",
   "execution_count": null,
   "metadata": {},
   "outputs": [],
   "source": []
  },
  {
   "cell_type": "code",
   "execution_count": null,
   "metadata": {},
   "outputs": [],
   "source": []
  },
  {
   "cell_type": "markdown",
   "metadata": {},
   "source": [
    "### Indexing!  \n",
    "Is very important! **Rule number 1**: Python indexing begins at zero. \n",
    "\n",
    "You also use brackets to access indexing. \n",
    "\n",
    "Try these:\n",
    "\n",
    "```python\n",
    "my_list[0]\n",
    "\n",
    "my_list[1]\n",
    "\n",
    "my_list[3]\n",
    "```\n",
    "\n"
   ]
  },
  {
   "cell_type": "code",
   "execution_count": null,
   "metadata": {},
   "outputs": [],
   "source": []
  },
  {
   "cell_type": "markdown",
   "metadata": {},
   "source": [
    "Now try on a string variable:  \n",
    "\n",
    "```python\n",
    "my_var[0]\n",
    "\n",
    "my_var[3]\n",
    "\n",
    "my_var[8]\n",
    "\n",
    "my_var[-1]\n",
    "```"
   ]
  },
  {
   "cell_type": "code",
   "execution_count": null,
   "metadata": {},
   "outputs": [],
   "source": []
  },
  {
   "cell_type": "markdown",
   "metadata": {},
   "source": [
    "Index slicing:  \n",
    "\n",
    "```python\n",
    "my_var[0:3]\n",
    "```\n",
    "\n",
    "First position is start, second position is one after you want it to stop... "
   ]
  },
  {
   "cell_type": "code",
   "execution_count": null,
   "metadata": {},
   "outputs": [],
   "source": []
  },
  {
   "cell_type": "markdown",
   "metadata": {},
   "source": [
    "### Iteration \n",
    "One of the main reasons people learn to code is to make a computer do repetitive things. This is where looping comes into play.  \n",
    "\n",
    "There are two types of loops:\n",
    "- ```for``` loops repeat a set number of types.\n",
    "- ```while``` loops repeat until a condition is met.  \n",
    "\n",
    "```for``` loops:\n",
    "\n",
    "```python \n",
    "my_nums = [1,2,3,4,5]\n",
    "\n",
    "for n in my_nums:\n",
    "    print(n)\n",
    "``` "
   ]
  },
  {
   "cell_type": "code",
   "execution_count": null,
   "metadata": {},
   "outputs": [],
   "source": []
  },
  {
   "cell_type": "code",
   "execution_count": null,
   "metadata": {},
   "outputs": [],
   "source": []
  },
  {
   "cell_type": "code",
   "execution_count": null,
   "metadata": {},
   "outputs": [],
   "source": []
  },
  {
   "cell_type": "markdown",
   "metadata": {},
   "source": [
    "the ```range()``` function is useful for a variety of tasks, such as iterating over index positions rather than the element itself. \n",
    "\n",
    "```python\n",
    "range(len(my_nums))\n",
    "```"
   ]
  },
  {
   "cell_type": "code",
   "execution_count": null,
   "metadata": {},
   "outputs": [],
   "source": []
  },
  {
   "cell_type": "markdown",
   "metadata": {},
   "source": [
    "```python\n",
    "for i in range(len(my_nums)):\n",
    "    print(i, my_nums[i])\n",
    "```"
   ]
  },
  {
   "cell_type": "code",
   "execution_count": null,
   "metadata": {},
   "outputs": [],
   "source": []
  },
  {
   "cell_type": "markdown",
   "metadata": {},
   "source": [
    "```python\n",
    "for i in range(len(my_nums)):\n",
    "    my_nums[i] += 2\n",
    "print(my_nums) \n",
    "```"
   ]
  },
  {
   "cell_type": "code",
   "execution_count": null,
   "metadata": {},
   "outputs": [],
   "source": []
  },
  {
   "cell_type": "markdown",
   "metadata": {},
   "source": []
  },
  {
   "cell_type": "markdown",
   "metadata": {},
   "source": [
    "**Challenge!** Usering the ```.append()``` method, loop over the my_nums list and populate a new list with these values: ```[2,4,6,8,10]```  \n",
    "\n",
    "*Bonus: make the list values string types*"
   ]
  },
  {
   "cell_type": "code",
   "execution_count": null,
   "metadata": {},
   "outputs": [],
   "source": [
    "new_list = []\n",
    "\n",
    "for n in my_nums:\n",
    "    # put your code here"
   ]
  },
  {
   "cell_type": "markdown",
   "metadata": {},
   "source": [
    "```while``` loops:  \n",
    "\n",
    "Repeat a process while a condition is True.  \n",
    "\n",
    "```python\n",
    "num = 0\n",
    "```  \n",
    "\n",
    "```python\n",
    "while num < 10:\n",
    "    num = num + 1\n",
    "    print(num)\n",
    "```"
   ]
  },
  {
   "cell_type": "code",
   "execution_count": null,
   "metadata": {},
   "outputs": [],
   "source": [
    "num = 0"
   ]
  },
  {
   "cell_type": "code",
   "execution_count": null,
   "metadata": {},
   "outputs": [],
   "source": []
  },
  {
   "cell_type": "markdown",
   "metadata": {},
   "source": [
    "### Imports  \n",
    "There are thousands of libraries (aka packages aka modules) that you can load. Some come with your standard Python installation, while others you can easily install into your Python environment.  \n",
    "\n",
    "Let's import a module:  \n",
    "\n",
    "```python \n",
    "import time\n",
    "```"
   ]
  },
  {
   "cell_type": "code",
   "execution_count": null,
   "metadata": {},
   "outputs": [],
   "source": []
  },
  {
   "cell_type": "markdown",
   "metadata": {},
   "source": [
    "Modules have lots of sub-modules (ahem... **classes**) that you can access:  \n",
    "\n",
    "```python \n",
    "time.time()\n",
    "```"
   ]
  },
  {
   "cell_type": "code",
   "execution_count": null,
   "metadata": {},
   "outputs": [],
   "source": []
  },
  {
   "cell_type": "markdown",
   "metadata": {},
   "source": [
    "You can also import only one class of a module like this:  \n",
    "\n",
    "```python\n",
    "from time import asctime\n",
    "```"
   ]
  },
  {
   "cell_type": "code",
   "execution_count": null,
   "metadata": {},
   "outputs": [],
   "source": []
  },
  {
   "cell_type": "code",
   "execution_count": null,
   "metadata": {},
   "outputs": [],
   "source": []
  },
  {
   "cell_type": "markdown",
   "metadata": {},
   "source": [
    "**Challenge!** Incorporate [```time.sleep()```](https://docs.python.org/3/library/time.html#time.sleep) into our ```while``` loop to to count to ten in 10 seconds exactly:"
   ]
  },
  {
   "cell_type": "code",
   "execution_count": null,
   "metadata": {},
   "outputs": [],
   "source": []
  },
  {
   "cell_type": "code",
   "execution_count": null,
   "metadata": {},
   "outputs": [],
   "source": []
  }
 ],
 "metadata": {
  "kernelspec": {
   "display_name": "datacamp",
   "language": "python",
   "name": "python3"
  },
  "language_info": {
   "codemirror_mode": {
    "name": "ipython",
    "version": 3
   },
   "file_extension": ".py",
   "mimetype": "text/x-python",
   "name": "python",
   "nbconvert_exporter": "python",
   "pygments_lexer": "ipython3",
   "version": "3.12.4"
  }
 },
 "nbformat": 4,
 "nbformat_minor": 2
}
