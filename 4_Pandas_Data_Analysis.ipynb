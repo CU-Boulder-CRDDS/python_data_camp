{
 "cells": [
  {
   "cell_type": "markdown",
   "metadata": {},
   "source": [
    "## Exploratory Analysis using Pandas, Matplotlib, and Seaborn. \n",
    "\n",
    "In this notebook, we'll start munging some real data and exploring using various Pandas methods and data visualizations.  \n",
    "\n",
    "\n",
    "Imports:\n",
    "```python\n",
    "import pandas as pd\n",
    "import numpy as np\n",
    "import os\n",
    "```"
   ]
  },
  {
   "cell_type": "code",
   "execution_count": null,
   "metadata": {},
   "outputs": [],
   "source": []
  },
  {
   "cell_type": "markdown",
   "metadata": {},
   "source": [
    "Paths:\n",
    "```python\n",
    "dir = r'C:/Users/phwh9568/Workshops/Python_Data_Camp/'\n",
    "data_dir = os.path.join(dir,'data')\n",
    "```"
   ]
  },
  {
   "cell_type": "code",
   "execution_count": null,
   "metadata": {},
   "outputs": [],
   "source": []
  },
  {
   "cell_type": "markdown",
   "metadata": {},
   "source": [
    "Let's read in some data from from the EPA's [Environmental Justice Screening and Mapping Tool](https://www.epa.gov/ejscreen).  ```EJscreen_Colorado.csv``` is in the data directory. This is an extract of a nationwide dataset available here: https://www.epa.gov/ejscreen/download-ejscreen-data.  \n",
    "\n",
    "We're working with data on the census tract level. You will also find a data dictionary in the data folder that explains the variables: ```EJScreen_2024_Tract_Percentiles_Columns.xlsx```\n",
    "\n",
    "We'll use this data to make use of Pandas' data munging/manipulating/analyzing capabilities.  \n",
    "\n",
    "Read it in as a variable:  \n",
    "```python\n",
    "data = pd.read_csv(os.path.join(data_dir,'EJscreen_Colorado.csv'))\n",
    "```"
   ]
  },
  {
   "cell_type": "code",
   "execution_count": null,
   "metadata": {},
   "outputs": [],
   "source": []
  },
  {
   "cell_type": "code",
   "execution_count": null,
   "metadata": {},
   "outputs": [],
   "source": []
  },
  {
   "cell_type": "markdown",
   "metadata": {},
   "source": [
    "Quick note on field data types... Pandas will guess/assume column data types, and usually this is fine. But not always!  \n",
    "\n",
    "You can explicitly declare a column data type on read using the ```dtype``` parameter of ```.read_csv()```.  \n",
    "\n",
    "This is me telling you there is a messed up column here. Reimport setting ID to string."
   ]
  },
  {
   "cell_type": "code",
   "execution_count": null,
   "metadata": {},
   "outputs": [],
   "source": []
  },
  {
   "cell_type": "markdown",
   "metadata": {},
   "source": [
    "It's too big to view the whole thing, but we can use various methods to get a feel for the data set...  \n",
    "\n",
    "Let's explore:  \n",
    "\n",
    "```python\n",
    "data.head()\n",
    "data.tail()\n",
    "data.columns\n",
    "data.describe\n",
    "```"
   ]
  },
  {
   "cell_type": "code",
   "execution_count": null,
   "metadata": {},
   "outputs": [],
   "source": []
  },
  {
   "cell_type": "markdown",
   "metadata": {},
   "source": [
    "```python\n",
    "data.columns\n",
    "```"
   ]
  },
  {
   "cell_type": "code",
   "execution_count": null,
   "metadata": {},
   "outputs": [],
   "source": []
  },
  {
   "cell_type": "markdown",
   "metadata": {},
   "source": [
    "There's a fair amount of data we don't need right now, so let's split off the demographic information we're interested in along with the environmental variables.  \n",
    "\n",
    "Let's make a list of the columns we want:\n",
    "```python\n",
    "environmental = list(data.columns[-14:])\n",
    "```"
   ]
  },
  {
   "cell_type": "code",
   "execution_count": null,
   "metadata": {},
   "outputs": [],
   "source": []
  },
  {
   "cell_type": "markdown",
   "metadata": {},
   "source": [
    "And, we'll manually create a list of the demographic variables we want to include:  \n",
    "```python\n",
    "demographics = ['ID','PEOPCOLORPCT', 'LOWINCPCT', 'LIFEEXPPCT', 'LINGISOPCT', 'DISABILITYPCT']\n",
    "```"
   ]
  },
  {
   "cell_type": "code",
   "execution_count": null,
   "metadata": {},
   "outputs": [],
   "source": []
  },
  {
   "cell_type": "code",
   "execution_count": null,
   "metadata": {},
   "outputs": [],
   "source": []
  },
  {
   "cell_type": "markdown",
   "metadata": {},
   "source": [
    "Now, combine these two lists then use this list of columns to split off a new dataframe based on the selected columns... \n",
    "\n",
    "How do we do this?  "
   ]
  },
  {
   "cell_type": "code",
   "execution_count": null,
   "metadata": {},
   "outputs": [],
   "source": []
  },
  {
   "cell_type": "markdown",
   "metadata": {},
   "source": [
    "Let's join another dataset to the ejscreen data that will tell us if an area is urban or rural.  \n",
    "\n",
    "```python\n",
    "urban = pd.read_csv(os.path.join(data_dir,'Colorado_Tracts_Urban.csv'), dtype={'GEOID':str})\n",
    "```"
   ]
  },
  {
   "cell_type": "code",
   "execution_count": null,
   "metadata": {},
   "outputs": [],
   "source": []
  },
  {
   "cell_type": "code",
   "execution_count": null,
   "metadata": {},
   "outputs": [],
   "source": []
  },
  {
   "cell_type": "markdown",
   "metadata": {},
   "source": [
    "Check values of the ```UATYPE20``` column using ```.unique()```"
   ]
  },
  {
   "cell_type": "code",
   "execution_count": null,
   "metadata": {},
   "outputs": [],
   "source": []
  },
  {
   "cell_type": "markdown",
   "metadata": {},
   "source": [
    "Now, replace NaN values in ```UATYPE20``` to 'R' for rural. Do you remember how?"
   ]
  },
  {
   "cell_type": "code",
   "execution_count": null,
   "metadata": {},
   "outputs": [],
   "source": []
  },
  {
   "cell_type": "code",
   "execution_count": null,
   "metadata": {},
   "outputs": [],
   "source": []
  },
  {
   "cell_type": "markdown",
   "metadata": {},
   "source": [
    "Now merge:  \n",
    "```python\n",
    "ejdata = ejdata.merge(urban, left_on='ID', right_on='GEOID')\n",
    "```"
   ]
  },
  {
   "cell_type": "code",
   "execution_count": null,
   "metadata": {},
   "outputs": [],
   "source": []
  },
  {
   "cell_type": "markdown",
   "metadata": {},
   "source": [
    "Great! Now, export this data to a csv:  \n",
    "\n",
    "```python\n",
    "ejdata.to_csv(os.path.join(data_dir,'ejdata_urban.csv'))\n",
    "```"
   ]
  },
  {
   "cell_type": "code",
   "execution_count": null,
   "metadata": {},
   "outputs": [],
   "source": []
  },
  {
   "cell_type": "markdown",
   "metadata": {},
   "source": [
    "Let's explore this data some. **MAYBE** we can find some relationships?  \n",
    "\n",
    "Start by using sort values to see census tracts with high ozone levels. \n",
    "```python\n",
    "ejdata.sort_values(by=['OZONE'], ascending=False, inplace=True)\n",
    "```"
   ]
  },
  {
   "cell_type": "code",
   "execution_count": null,
   "metadata": {},
   "outputs": [],
   "source": []
  },
  {
   "cell_type": "code",
   "execution_count": null,
   "metadata": {},
   "outputs": [],
   "source": []
  },
  {
   "cell_type": "markdown",
   "metadata": {},
   "source": [
    "You might find it useful to add some color to your table... \n",
    "```python\n",
    "ejdata[['LIFEEXPPCT','OZONE', 'PTRAF', 'PM25']].style.background_gradient()\n",
    "```"
   ]
  },
  {
   "cell_type": "code",
   "execution_count": null,
   "metadata": {},
   "outputs": [],
   "source": []
  },
  {
   "cell_type": "markdown",
   "metadata": {},
   "source": [
    "Here's some more info on styling Pandas tables: https://pandas.pydata.org/docs/user_guide/style.html\n",
    "\n",
    "### Let's get into visualization.  \n",
    "\n",
    "There's a TON of Python data visualization packages. We'll touch on three big ones:  \n",
    "1. matplotlib\n",
    "2. seaborn\n",
    "3. plotly  \n",
    "\n",
    "We'll start with matplotlib:\n",
    "\n",
    "```python\n",
    "import matplotlib.pyplot as plt\n",
    "```"
   ]
  },
  {
   "cell_type": "code",
   "execution_count": null,
   "metadata": {},
   "outputs": [],
   "source": []
  },
  {
   "cell_type": "markdown",
   "metadata": {},
   "source": [
    "Let's start by generating some scatterplots.  \n",
    "\n",
    "We'll start with the standard matplotlib approach:  \n",
    "\n",
    "Here are the docs: https://matplotlib.org/stable/api/_as_gen/matplotlib.pyplot.scatter.html. \n",
    "\n",
    "```python\n",
    "fig, ax = plt.subplots()\n",
    "\n",
    "x = ejdata['LIFEEXPPCT']\n",
    "y = ejdata['PTRAF']\n",
    "\n",
    "ax.scatter(x,y)\n",
    "```\n",
    "\n",
    "Check the docs and modify... Change the figure size, marker color, marker size, set axis labels. "
   ]
  },
  {
   "cell_type": "code",
   "execution_count": null,
   "metadata": {},
   "outputs": [],
   "source": []
  },
  {
   "cell_type": "markdown",
   "metadata": {},
   "source": [
    "Pandas X matplotlib...  \n",
    "\n",
    "Pandas does have some built in matplotlib functionality.  For example, https://pandas.pydata.org/docs/reference/api/pandas.DataFrame.plot.scatter.html. \n",
    "\n",
    "```python\n",
    "ejdata.plot.scatter(x='LIFEEXPPCT',y='PTRAF')\n",
    "```"
   ]
  },
  {
   "cell_type": "code",
   "execution_count": null,
   "metadata": {},
   "outputs": [],
   "source": []
  },
  {
   "cell_type": "markdown",
   "metadata": {},
   "source": [
    "Definitely easier! But sometimes not as fully customizable.  \n",
    "\n",
    "Although matplotlib is (maybe?) the standard bearer, there are several other very good visualization libraries that can be used as alternatives or alongside matplotlib.  \n",
    "\n",
    "### Let's checkout [Seaborn](https://seaborn.pydata.org/)  \n",
    "\n",
    "```python\n",
    "import seaborn as sns\n",
    "```"
   ]
  },
  {
   "cell_type": "code",
   "execution_count": null,
   "metadata": {},
   "outputs": [],
   "source": []
  },
  {
   "cell_type": "markdown",
   "metadata": {},
   "source": [
    "Let's start again with our scatterplot.  \n",
    "\n",
    "```python\n",
    "sns.scatterplot(x=ejdata['LIFEEXPPCT'], Y=EJDATA['PTRAF'])\n",
    "```"
   ]
  },
  {
   "cell_type": "code",
   "execution_count": null,
   "metadata": {},
   "outputs": [],
   "source": []
  },
  {
   "cell_type": "markdown",
   "metadata": {},
   "source": [
    "Check the docs: \n",
    "Now, recreate the above plot but use the ```hue``` parameter to style it according to urban and rural areas:"
   ]
  },
  {
   "cell_type": "code",
   "execution_count": null,
   "metadata": {},
   "outputs": [],
   "source": []
  },
  {
   "cell_type": "markdown",
   "metadata": {},
   "source": [
    "Is there something here? Worth exploring? Maybe...  \n",
    "\n",
    "Let's split off just the urban census tracts. Do you remember how to use ```.loc```?"
   ]
  },
  {
   "cell_type": "code",
   "execution_count": null,
   "metadata": {},
   "outputs": [],
   "source": []
  },
  {
   "cell_type": "markdown",
   "metadata": {},
   "source": [
    "I guess we could keep futzing about plugging in various variables into our scatterplots...  \n",
    "\n",
    "But why not produce them all at once? \n",
    "\n",
    "Let's check out Pairgrid:\n",
    "```python\n",
    "g = sns.PairGrid(ejUrban) #or sns.pairplot(ejUrban)\n",
    "g.map(sns.scatterplot)\n",
    "```"
   ]
  },
  {
   "cell_type": "code",
   "execution_count": null,
   "metadata": {},
   "outputs": [],
   "source": []
  },
  {
   "cell_type": "markdown",
   "metadata": {},
   "source": [
    "Okay, well, we have some unclear results... let's run a correlation:  \n",
    "```python\n",
    "ejdata.corr(numeric_only=True)\n",
    "```"
   ]
  },
  {
   "cell_type": "code",
   "execution_count": null,
   "metadata": {},
   "outputs": [],
   "source": []
  },
  {
   "cell_type": "markdown",
   "metadata": {},
   "source": [
    "Let's visualize that using [```sns.heatmap()```](https://seaborn.pydata.org/generated/seaborn.heatmap.html).  \n",
    "\n",
    "Check the docs."
   ]
  },
  {
   "cell_type": "code",
   "execution_count": null,
   "metadata": {},
   "outputs": [],
   "source": []
  },
  {
   "cell_type": "markdown",
   "metadata": {},
   "source": [
    "Oh well, I tried! Let's get some different data!  \n",
    "\n",
    "There is a built in dataset in Seaborn:\n",
    "```python\n",
    "iris = sns.load_dataset('iris')"
   ]
  },
  {
   "cell_type": "code",
   "execution_count": null,
   "metadata": {},
   "outputs": [],
   "source": []
  },
  {
   "cell_type": "markdown",
   "metadata": {},
   "source": [
    "Take a peek... "
   ]
  },
  {
   "cell_type": "code",
   "execution_count": null,
   "metadata": {},
   "outputs": [],
   "source": []
  },
  {
   "cell_type": "markdown",
   "metadata": {},
   "source": [
    "```python\n",
    "iris.shape\n",
    "```"
   ]
  },
  {
   "cell_type": "code",
   "execution_count": null,
   "metadata": {},
   "outputs": [],
   "source": []
  },
  {
   "cell_type": "markdown",
   "metadata": {},
   "source": [
    "```python\n",
    "iris.columns\n",
    "```"
   ]
  },
  {
   "cell_type": "code",
   "execution_count": null,
   "metadata": {},
   "outputs": [],
   "source": []
  },
  {
   "cell_type": "markdown",
   "metadata": {},
   "source": [
    "Start with a basic scatterplot using petal length as the x axis and petal width on the y axis.  \n",
    "\n",
    "Once you've got that, color the marker points by species.  "
   ]
  },
  {
   "cell_type": "code",
   "execution_count": null,
   "metadata": {},
   "outputs": [],
   "source": []
  },
  {
   "cell_type": "markdown",
   "metadata": {},
   "source": [
    "Try to make a [boxplot](https://seaborn.pydata.org/generated/seaborn.boxplot.html)!"
   ]
  },
  {
   "cell_type": "code",
   "execution_count": null,
   "metadata": {},
   "outputs": [],
   "source": []
  },
  {
   "cell_type": "markdown",
   "metadata": {},
   "source": [
    "Make a [barplot](https://seaborn.pydata.org/generated/seaborn.barplot) that shows petal length by species! Make them different colors!"
   ]
  },
  {
   "cell_type": "code",
   "execution_count": null,
   "metadata": {},
   "outputs": [],
   "source": []
  },
  {
   "cell_type": "markdown",
   "metadata": {},
   "source": [
    "Let's do some more advanced plotting. Say you want to make a figure for your paper... \n",
    "\n",
    "We'll combine charts using matplotlib.  Let's stack these three atop of one another...  \n",
    "\n",
    "Start by reviewing the ```pyplot.subplots()``` documentation: https://matplotlib.org/stable/api/_as_gen/matplotlib.pyplot.subplots.html \n",
    "\n",
    "We'll start with this basic code then modify:\n",
    "```python\n",
    "fig, ax = plt.subplots()\n",
    "```"
   ]
  },
  {
   "cell_type": "code",
   "execution_count": null,
   "metadata": {},
   "outputs": [],
   "source": []
  },
  {
   "cell_type": "markdown",
   "metadata": {},
   "source": [
    "Okay, if we want these stacked vertically, we need to set the ```nrows``` parameter.  \n",
    "How many rows do we need?"
   ]
  },
  {
   "cell_type": "code",
   "execution_count": null,
   "metadata": {},
   "outputs": [],
   "source": []
  },
  {
   "cell_type": "markdown",
   "metadata": {},
   "source": [
    "Okay, now we've got 3 empty charts. Let's start by populating the charts.  \n",
    "\n",
    "Review the sns.barplot docs: https://seaborn.pydata.org/generated/seaborn.barplot \n",
    "\n",
    "What does the ax parameter do?  \n",
    "\n",
    "What happens if we just run the our ```ax``` variable? "
   ]
  },
  {
   "cell_type": "code",
   "execution_count": null,
   "metadata": {},
   "outputs": [],
   "source": []
  },
  {
   "cell_type": "markdown",
   "metadata": {},
   "source": [
    "Okay, there's 3 things there... how do we select one of them?  "
   ]
  },
  {
   "cell_type": "code",
   "execution_count": null,
   "metadata": {},
   "outputs": [],
   "source": []
  },
  {
   "cell_type": "markdown",
   "metadata": {},
   "source": [
    "Okay, how can we use this info and apply it to the ```sns.barplot()``` ```ax``` parameter?"
   ]
  },
  {
   "cell_type": "code",
   "execution_count": null,
   "metadata": {},
   "outputs": [],
   "source": []
  },
  {
   "cell_type": "markdown",
   "metadata": {},
   "source": [
    "Populate the remaining axes with the boxplot and scatterplot."
   ]
  },
  {
   "cell_type": "code",
   "execution_count": null,
   "metadata": {},
   "outputs": [],
   "source": []
  },
  {
   "cell_type": "markdown",
   "metadata": {},
   "source": [
    "Make it pretty."
   ]
  },
  {
   "cell_type": "code",
   "execution_count": null,
   "metadata": {},
   "outputs": [],
   "source": []
  }
 ],
 "metadata": {
  "kernelspec": {
   "display_name": "datacamp",
   "language": "python",
   "name": "python3"
  },
  "language_info": {
   "codemirror_mode": {
    "name": "ipython",
    "version": 3
   },
   "file_extension": ".py",
   "mimetype": "text/x-python",
   "name": "python",
   "nbconvert_exporter": "python",
   "pygments_lexer": "ipython3",
   "version": "3.12.4"
  }
 },
 "nbformat": 4,
 "nbformat_minor": 2
}
