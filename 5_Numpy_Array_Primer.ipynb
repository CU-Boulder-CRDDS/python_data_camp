{
 "cells": [
  {
   "cell_type": "markdown",
   "metadata": {},
   "source": [
    "## Primer: Working with Arrays using Numpy  \n",
    "\n",
    "\"Nearly every scientist working in Python draws on the power of Numpy.\"  \n",
    "[Numpy.org](https://numpy.org/)  \n",
    "\n",
    "Numpy is widely used across scientific disciplines for numerical computing, and is the most common means of working with data arrays.   \n",
    "\n",
    "\n",
    "```python\n",
    "import numpy as np\n",
    "```"
   ]
  },
  {
   "cell_type": "code",
   "execution_count": null,
   "metadata": {},
   "outputs": [],
   "source": []
  },
  {
   "cell_type": "markdown",
   "metadata": {},
   "source": [
    "Numpy arrays can have multiple dimensions.  \n",
    "\n",
    "To create a one dimensional array from scratch, use ```np.array()``` with a list of numbers (integers or floats) as the sole parameter:\n",
    "\n",
    "```python\n",
    "np.array([4,6,4,7,2])\n",
    "```"
   ]
  },
  {
   "cell_type": "code",
   "execution_count": null,
   "metadata": {},
   "outputs": [],
   "source": []
  },
  {
   "cell_type": "markdown",
   "metadata": {},
   "source": [
    "Usually, though an array is two-dimensional.  \n",
    "\n",
    "To create a 2D array from scratch, you need nested lists:  \n",
    "\n",
    "```python\n",
    "np.array([[4,6,4,7,2],[5,8,4,9,7],[6,8,3,4,2],[9,5,8,6,7],[5,2,7,9,1],[7,4,2,6,7]])\n",
    "```"
   ]
  },
  {
   "cell_type": "code",
   "execution_count": null,
   "metadata": {},
   "outputs": [],
   "source": [
    "np.array([[4,6,4,7,2],[5,8,4,9,7],[6,8,3,4,2],[9,5,8,6,7],[5,2,7,9,1],[7,4,2,6,7]])"
   ]
  },
  {
   "cell_type": "markdown",
   "metadata": {},
   "source": [
    "So what is an array? You can think of it as a grid. \n",
    "\n",
    "What types of data that you might work with are gridded?  \n",
    "\n",
    "Store the above array into a variable:  \n",
    "```python\n",
    "arr = np.array(([4,6,4,7,2],[5,8,4,9,7],[6,8,3,4,2],[9,5,8,6,7],[5,2,7,9,1],[7,4,2,6,7]))\n",
    "```"
   ]
  },
  {
   "cell_type": "code",
   "execution_count": null,
   "metadata": {},
   "outputs": [],
   "source": []
  },
  {
   "cell_type": "code",
   "execution_count": null,
   "metadata": {},
   "outputs": [],
   "source": []
  },
  {
   "cell_type": "markdown",
   "metadata": {},
   "source": [
    "Often, you need to know the shape of your array, particularly for transforming it to different data formats such as netCDF or GeoTiff.\n",
    "\n",
    "```python\n",
    "arr.shape\n",
    "```"
   ]
  },
  {
   "cell_type": "code",
   "execution_count": null,
   "metadata": {},
   "outputs": [],
   "source": []
  },
  {
   "cell_type": "markdown",
   "metadata": {},
   "source": [
    "Note that shape is in (rows, columns) notation.  \n",
    "\n",
    "Use the ```.size``` method to get the size: \n",
    "```python\n",
    "arr.size\n",
    "```"
   ]
  },
  {
   "cell_type": "code",
   "execution_count": null,
   "metadata": {},
   "outputs": [],
   "source": []
  },
  {
   "cell_type": "markdown",
   "metadata": {},
   "source": [
    "Use the ```.ndim``` method to get it's dimensions."
   ]
  },
  {
   "cell_type": "code",
   "execution_count": null,
   "metadata": {},
   "outputs": [],
   "source": []
  },
  {
   "cell_type": "markdown",
   "metadata": {},
   "source": [
    "Indexing arrays is similar, with some quirks.  \n",
    "```python\n",
    "arr[0]\n",
    "```\n",
    "Retruns the row in 0 index position."
   ]
  },
  {
   "cell_type": "code",
   "execution_count": null,
   "metadata": {},
   "outputs": [],
   "source": []
  },
  {
   "cell_type": "markdown",
   "metadata": {},
   "source": [
    "```python\n",
    "arr[0:3]\n",
    "```\n",
    "Returns a slice of the first three rows."
   ]
  },
  {
   "cell_type": "code",
   "execution_count": null,
   "metadata": {},
   "outputs": [],
   "source": []
  },
  {
   "cell_type": "markdown",
   "metadata": {},
   "source": [
    "What about columns?  \n",
    "\n",
    "First, get the row or rows you want, then column position like this:  \n",
    "\n",
    "```python\n",
    "arr[0:6,0] # first 6 rows before comma, first column after comma\n",
    "```"
   ]
  },
  {
   "cell_type": "code",
   "execution_count": null,
   "metadata": {},
   "outputs": [],
   "source": []
  },
  {
   "cell_type": "markdown",
   "metadata": {},
   "source": [
    "So, array indexing is ```[rows,columns]``` or in other words ```[vertical axis, horizontal axis]```. Vertical axis = 0, Horizontal axis = 1. (typically)\n",
    "\n",
    "\n",
    "```python\n",
    "arr[0,0:] # first row, all columns\n",
    "arr[1,0:3] # second row, columns 0, 1, 2\n",
    "arr[0:3,1] # first three rows from column 2\n",
    "arr[3,2] # value from fourth row, third column"
   ]
  },
  {
   "cell_type": "code",
   "execution_count": null,
   "metadata": {},
   "outputs": [],
   "source": []
  },
  {
   "cell_type": "markdown",
   "metadata": {},
   "source": [
    "A 3x3 slice of the top left corner:\n",
    "```python\n",
    "arr[0:3,0:3]\n",
    "```"
   ]
  },
  {
   "cell_type": "code",
   "execution_count": null,
   "metadata": {},
   "outputs": [],
   "source": []
  },
  {
   "cell_type": "markdown",
   "metadata": {},
   "source": [
    "What will this do?  \n",
    "```python\n",
    "arr[0:3,0:3] + 100\n",
    "```"
   ]
  },
  {
   "cell_type": "code",
   "execution_count": null,
   "metadata": {},
   "outputs": [],
   "source": []
  },
  {
   "cell_type": "markdown",
   "metadata": {},
   "source": [
    "```python\n",
    "arr\n",
    "```"
   ]
  },
  {
   "cell_type": "code",
   "execution_count": null,
   "metadata": {},
   "outputs": [],
   "source": []
  },
  {
   "cell_type": "markdown",
   "metadata": {},
   "source": [
    "Note that arrays are \"mutable\", meaning the values can be reassigned. Modify the same code:  \n",
    "```python\n",
    "arr[0:3,0:3] += 100\n",
    "```"
   ]
  },
  {
   "cell_type": "code",
   "execution_count": null,
   "metadata": {},
   "outputs": [],
   "source": []
  },
  {
   "cell_type": "markdown",
   "metadata": {},
   "source": [
    "```python\n",
    "arr\n",
    "```"
   ]
  },
  {
   "cell_type": "code",
   "execution_count": null,
   "metadata": {},
   "outputs": [],
   "source": []
  },
  {
   "cell_type": "markdown",
   "metadata": {},
   "source": [
    "Modify the same code to return it to it's original form:"
   ]
  },
  {
   "cell_type": "code",
   "execution_count": null,
   "metadata": {},
   "outputs": [],
   "source": []
  },
  {
   "cell_type": "markdown",
   "metadata": {},
   "source": [
    "You can use various methods to broadcast to an array, such as ```np.ones()``` or ```np.zeros()```:\n",
    "\n",
    "```python\n",
    "np.ones((10,10)) # shape of the desired array is first parameter, which is provided in parentheses aka tuple\n",
    "```"
   ]
  },
  {
   "cell_type": "code",
   "execution_count": null,
   "metadata": {},
   "outputs": [],
   "source": []
  },
  {
   "cell_type": "markdown",
   "metadata": {},
   "source": [
    "Of course, you can cast to the size of another array easily:  \n",
    "```python\n",
    "arr1 = np.ones((arr.shape))\n",
    "```"
   ]
  },
  {
   "cell_type": "code",
   "execution_count": null,
   "metadata": {},
   "outputs": [],
   "source": []
  },
  {
   "cell_type": "markdown",
   "metadata": {},
   "source": [
    "You can do arithmetic operations on arrays. If you want to apply a formula to a whole array (array to scalar), it's very easy:  \n",
    "\n",
    "```python\n",
    "arr2 = arr1 * 2\n",
    "```"
   ]
  },
  {
   "cell_type": "code",
   "execution_count": null,
   "metadata": {},
   "outputs": [],
   "source": []
  },
  {
   "cell_type": "code",
   "execution_count": null,
   "metadata": {},
   "outputs": [],
   "source": []
  },
  {
   "cell_type": "markdown",
   "metadata": {},
   "source": [
    "It's also easy to do arithmetic operations on multiple arrays of the same shape:  \n",
    "\n",
    "```python\n",
    "arr * arr2\n",
    "```"
   ]
  },
  {
   "cell_type": "code",
   "execution_count": null,
   "metadata": {},
   "outputs": [],
   "source": []
  },
  {
   "cell_type": "markdown",
   "metadata": {},
   "source": [
    "Note those values are now float type. Sometimes you may need to cast to a different data type, such as integer to float or vice versa:  \n",
    "```python\n",
    "arr3 = (arr * arr2).astype(int)\n",
    "```"
   ]
  },
  {
   "cell_type": "code",
   "execution_count": null,
   "metadata": {},
   "outputs": [],
   "source": []
  },
  {
   "cell_type": "markdown",
   "metadata": {},
   "source": [
    "A useful method is ```np.where()```. This comes in handy in a variety of scenarios where you need to select based on conditions. \n",
    "\n",
    "First parameter is the condition, second parameter is the result if true, third parameter if the result is false. \n",
    "\n",
    "```python\n",
    "np.where(arr>5,1,0)\n",
    "```"
   ]
  },
  {
   "cell_type": "code",
   "execution_count": null,
   "metadata": {},
   "outputs": [],
   "source": []
  },
  {
   "cell_type": "code",
   "execution_count": null,
   "metadata": {},
   "outputs": [],
   "source": []
  },
  {
   "cell_type": "markdown",
   "metadata": {},
   "source": [
    "Masking:"
   ]
  },
  {
   "cell_type": "code",
   "execution_count": null,
   "metadata": {},
   "outputs": [],
   "source": []
  },
  {
   "cell_type": "markdown",
   "metadata": {},
   "source": [
    "Create a random array:\n",
    "\n",
    "This array will be populated by whole numbers between 1 and 100.\n",
    "\n",
    "```python\n",
    "np.random.randint(1,100,(10,10))\n",
    "```"
   ]
  },
  {
   "cell_type": "code",
   "execution_count": null,
   "metadata": {},
   "outputs": [],
   "source": []
  },
  {
   "cell_type": "markdown",
   "metadata": {},
   "source": [
    "#### Multidimensional arrays  \n",
    "\n",
    "You can stack arrays of the same size on top of one another for a multidimensional array.\n",
    "\n",
    "```python\n",
    "a1 = np.random.randint(1,100,(10,10))\n",
    "a2 = np.random.randint(1,100,(10,10))\n",
    "a3 = np.random.randint(1,100,(10,10))\n",
    "```"
   ]
  },
  {
   "cell_type": "code",
   "execution_count": null,
   "metadata": {},
   "outputs": [],
   "source": []
  },
  {
   "cell_type": "markdown",
   "metadata": {},
   "source": [
    "```python\n",
    "stack = np.stack([a1,a2,a3])\n",
    "```"
   ]
  },
  {
   "cell_type": "code",
   "execution_count": null,
   "metadata": {},
   "outputs": [],
   "source": []
  },
  {
   "cell_type": "markdown",
   "metadata": {},
   "source": [
    "Or, a better way:  \n",
    "\n",
    "```python\n",
    "arrays = []\n",
    "for n in range(3):\n",
    "    arrays.append(np.random.randint(1,100,(10,10)))\n",
    "\n",
    "stack = np.stack(arrays)\n",
    "```"
   ]
  },
  {
   "cell_type": "code",
   "execution_count": null,
   "metadata": {},
   "outputs": [],
   "source": []
  },
  {
   "cell_type": "markdown",
   "metadata": {},
   "source": [
    "```python\n",
    "stack.shape\n",
    "```"
   ]
  },
  {
   "cell_type": "code",
   "execution_count": null,
   "metadata": {},
   "outputs": [],
   "source": []
  },
  {
   "cell_type": "markdown",
   "metadata": {},
   "source": [
    "Now, 0 axis is the multidimensional one.  \n",
    "\n",
    "Generate a derived mean array from all three:  \n",
    "\n",
    "```python\n",
    "np.mean(stack, axis=0)"
   ]
  },
  {
   "cell_type": "code",
   "execution_count": null,
   "metadata": {},
   "outputs": [],
   "source": []
  },
  {
   "cell_type": "markdown",
   "metadata": {},
   "source": [
    "Or,\n",
    "```python\n",
    "stack.mean((0))\n",
    "```"
   ]
  },
  {
   "cell_type": "code",
   "execution_count": null,
   "metadata": {},
   "outputs": [],
   "source": []
  },
  {
   "cell_type": "markdown",
   "metadata": {},
   "source": [
    "### Working with data arrays in practice.  \n",
    "\n",
    "Here is a quick geospatial demonstration using a digital elevation model.  \n",
    "\n",
    "I'll use the rasterio library to transform a geoTiff file into an array, run a processing operation over the array, and write a new output geoTiff.  \n",
    "\n",
    "*Note*, you probably don't have rasterio installed, but you can always open your command line and type ```conda install rasterio```.  \n",
    "\n",
    "```python\n",
    "import rasterio as rio\n",
    "```"
   ]
  },
  {
   "cell_type": "code",
   "execution_count": null,
   "metadata": {},
   "outputs": [],
   "source": [
    "import rasterio as rio\n",
    "import os\n",
    "import matplotlib.pyplot as plt"
   ]
  },
  {
   "cell_type": "code",
   "execution_count": null,
   "metadata": {},
   "outputs": [],
   "source": [
    "data_dir = r'C:\\Users\\phwh9568\\Workshops\\Python_Data_Camp\\data'\n",
    "file = 'Flatirons_DEM_1m.tif'"
   ]
  },
  {
   "cell_type": "code",
   "execution_count": null,
   "metadata": {},
   "outputs": [],
   "source": [
    "dem = rio.open(os.path.join(data_dir, file))"
   ]
  },
  {
   "cell_type": "code",
   "execution_count": null,
   "metadata": {},
   "outputs": [],
   "source": [
    "plt.imshow(dem.read(1))"
   ]
  },
  {
   "cell_type": "markdown",
   "metadata": {},
   "source": [
    "Or:  \n",
    "```python\n",
    "from rasterio.plot import show\n",
    "```"
   ]
  },
  {
   "cell_type": "code",
   "execution_count": null,
   "metadata": {},
   "outputs": [],
   "source": [
    "from rasterio.plot import show"
   ]
  },
  {
   "cell_type": "markdown",
   "metadata": {},
   "source": [
    "```python\n",
    "show(dem)\n",
    "```"
   ]
  },
  {
   "cell_type": "code",
   "execution_count": null,
   "metadata": {},
   "outputs": [],
   "source": []
  },
  {
   "cell_type": "markdown",
   "metadata": {},
   "source": [
    "Note matplot lib's colormaps: https://matplotlib.org/stable/tutorials/colors/colormaps.html"
   ]
  },
  {
   "cell_type": "code",
   "execution_count": null,
   "metadata": {},
   "outputs": [],
   "source": [
    "show(dem, cmap='gray')"
   ]
  },
  {
   "cell_type": "markdown",
   "metadata": {},
   "source": [
    "Plotting matplotlib style:\n",
    "```python\n",
    "fig, ax = plt.subplots(1,figsize=(12,12))\n",
    "show(dem.read(1), transform=dem.transform, cmap='plasma', ax=ax)\n",
    "```"
   ]
  },
  {
   "cell_type": "code",
   "execution_count": null,
   "metadata": {},
   "outputs": [],
   "source": [
    "fig, ax = plt.subplots(1,figsize=(12,12))\n",
    "show(dem.read(1), transform=dem.transform, cmap='plasma', ax=ax)"
   ]
  },
  {
   "cell_type": "markdown",
   "metadata": {},
   "source": [
    "When working with geospatial raster data, knowing the coordinate system, size, and transformation information are all crucial for writing outputs:  \n",
    "\n",
    "```python\n",
    "dem.profile\n",
    "```"
   ]
  },
  {
   "cell_type": "code",
   "execution_count": null,
   "metadata": {},
   "outputs": [],
   "source": []
  },
  {
   "cell_type": "markdown",
   "metadata": {},
   "source": [
    "Translate the DEM to a numpy array:  \n",
    "\n",
    "```python\n",
    "demArray = dem.read(1)\n",
    "```"
   ]
  },
  {
   "cell_type": "code",
   "execution_count": null,
   "metadata": {},
   "outputs": [],
   "source": []
  },
  {
   "cell_type": "code",
   "execution_count": null,
   "metadata": {},
   "outputs": [],
   "source": []
  },
  {
   "cell_type": "code",
   "execution_count": null,
   "metadata": {},
   "outputs": [],
   "source": [
    "demArray.size"
   ]
  },
  {
   "cell_type": "code",
   "execution_count": null,
   "metadata": {},
   "outputs": [],
   "source": [
    "demArray.shape"
   ]
  },
  {
   "cell_type": "markdown",
   "metadata": {},
   "source": [
    "Now that the DEM is an array, there are endless ways we could manipulate it. Let's perform a common geospatial operation, a smoothing filter based on the mean of a cells based the cell and it's 8 neighboring cells' values.  \n",
    "\n",
    "There are several approaches to this including iterating through every cell (slow), takign the mean from slices of the array (fast), or using the SciPy library which already includes mean filter functions (easy). \n",
    "\n",
    "SciPy is frequently used alongside NumPy to extend it's functionality. A lot of things do-able in NumPy are made easier with SciPy's more advanced suite of algorithms.  \n",
    "\n",
    "```python\n",
    "import scipy.ndimage\n",
    "```"
   ]
  },
  {
   "cell_type": "code",
   "execution_count": null,
   "metadata": {},
   "outputs": [],
   "source": [
    "import scipy.ndimage"
   ]
  },
  {
   "cell_type": "code",
   "execution_count": null,
   "metadata": {},
   "outputs": [],
   "source": [
    "demMean = scipy.ndimage.uniform_filter(demArray, size=3)"
   ]
  },
  {
   "cell_type": "code",
   "execution_count": null,
   "metadata": {},
   "outputs": [],
   "source": [
    "demMean"
   ]
  },
  {
   "cell_type": "markdown",
   "metadata": {},
   "source": [
    "Now, write it out as a GeoTiff:"
   ]
  },
  {
   "cell_type": "code",
   "execution_count": null,
   "metadata": {},
   "outputs": [],
   "source": [
    "with rio.open('demMean.tif', 'w', **dem.profile) as demMean_out:\n",
    "    demMean_out.write(demMean,1)"
   ]
  }
 ],
 "metadata": {
  "kernelspec": {
   "display_name": "datacamp",
   "language": "python",
   "name": "python3"
  },
  "language_info": {
   "codemirror_mode": {
    "name": "ipython",
    "version": 3
   },
   "file_extension": ".py",
   "mimetype": "text/x-python",
   "name": "python",
   "nbconvert_exporter": "python",
   "pygments_lexer": "ipython3",
   "version": "3.12.4"
  }
 },
 "nbformat": 4,
 "nbformat_minor": 2
}
