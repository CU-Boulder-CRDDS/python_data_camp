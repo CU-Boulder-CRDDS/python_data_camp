{
 "cells": [
  {
   "cell_type": "markdown",
   "metadata": {},
   "source": [
    "## Python Basics  \n",
    "We definitely can't teach you everything in a day, but hopefully we can get you going in the right direction.  \n",
    "\n",
    "In this notebook we'll cover:\n",
    "- Variables\n",
    "- Common data types\n",
    "- Indexing\n",
    "- Control flow\n",
    "- Logical operators\n",
    "- lists\n",
    "- iterating with for and while loops\n",
    "- importing other libraries\n",
    "\n",
    "### Let's get started!\n",
    "\n",
    "The All Important print function:\n",
    "```python\n",
    "print('hello world')\n",
    "```"
   ]
  },
  {
   "cell_type": "code",
   "execution_count": 1,
   "metadata": {},
   "outputs": [
    {
     "name": "stdout",
     "output_type": "stream",
     "text": [
      "hello world\n"
     ]
    }
   ],
   "source": [
    "print('hello world')"
   ]
  },
  {
   "cell_type": "markdown",
   "metadata": {},
   "source": [
    "In this example, ```hello world``` is a text string aka **string**.  \n",
    "\n",
    "We told Python to print it using the ```print()``` function.  \n",
    " \n",
    "\n",
    "In Python, a function is some \"command\" followed by input parameter(s) in parentheses... :  \n",
    "```someFunction(input)``` or ```someFunction(input1,input2)```. ```print()``` is a function.  \n",
    "\n",
    "You can—*and should*—write your own functions, but that's slightly out of scope for today. If you're a beginner, for today think of a function as some pre-written code you can use that completes some task.\n",
    "\n",
    "------------\n",
    "\n",
    "\n",
    "### Variables  \n",
    "You declare variables with an equals sign ```=```  \n",
    "\n",
    "```python\n",
    "my_var = 'hello world'\n",
    "```"
   ]
  },
  {
   "cell_type": "code",
   "execution_count": 8,
   "metadata": {},
   "outputs": [],
   "source": [
    "my_var = 'hello world'"
   ]
  },
  {
   "cell_type": "markdown",
   "metadata": {},
   "source": [
    "```python\n",
    "my_var\n",
    "```"
   ]
  },
  {
   "cell_type": "code",
   "execution_count": 9,
   "metadata": {},
   "outputs": [
    {
     "data": {
      "text/plain": [
       "'hello world'"
      ]
     },
     "execution_count": 9,
     "metadata": {},
     "output_type": "execute_result"
    }
   ],
   "source": [
    "my_var"
   ]
  },
  {
   "cell_type": "markdown",
   "metadata": {},
   "source": [
    "```python\n",
    "print(my_var)\n",
    "```"
   ]
  },
  {
   "cell_type": "code",
   "execution_count": 10,
   "metadata": {},
   "outputs": [
    {
     "name": "stdout",
     "output_type": "stream",
     "text": [
      "hello world\n"
     ]
    }
   ],
   "source": [
    "print(my_var)"
   ]
  },
  {
   "cell_type": "markdown",
   "metadata": {},
   "source": [
    "If you don't like it, just reassign it:\n",
    "\n",
    "```python\n",
    "my_var = 'whatever!'\n",
    "```"
   ]
  },
  {
   "cell_type": "code",
   "execution_count": 1,
   "metadata": {},
   "outputs": [],
   "source": [
    "my_var = 'whatever!'"
   ]
  },
  {
   "cell_type": "markdown",
   "metadata": {},
   "source": [
    "String concatenation:  \n",
    "\n",
    "To put to string sequences together, use a plus sign ```+```  \n",
    "\n",
    "```python\n",
    "print('Hello World' + 'My name is Screwball')\n",
    "```"
   ]
  },
  {
   "cell_type": "code",
   "execution_count": null,
   "metadata": {},
   "outputs": [],
   "source": []
  },
  {
   "cell_type": "markdown",
   "metadata": {},
   "source": [
    "```python\n",
    "print(my_var + ', Screwball!')\n",
    "```"
   ]
  },
  {
   "cell_type": "code",
   "execution_count": 2,
   "metadata": {},
   "outputs": [
    {
     "name": "stdout",
     "output_type": "stream",
     "text": [
      "whatever!, Screwball!\n"
     ]
    }
   ],
   "source": [
    "print(my_var + ', Screwball!')"
   ]
  },
  {
   "cell_type": "markdown",
   "metadata": {},
   "source": [
    "A variable can be anything.  \n",
    "\n",
    "_________\n",
    "\n",
    "\n",
    "### Data types  \n",
    "There are several [data types and structures](https://www.geeksforgeeks.org/python-data-types/). Today, we'll concern ourselves with the most used:\n",
    "\n",
    "- String (text)\n",
    "- Integer (numbers) \n",
    "- Float (also numbers) \n",
    "- List (a list of values)\n",
    "- Tuple (kind of like a list)\n",
    "- Dictionary (key and value pairs)  \n",
    "\n",
    "These and others are built into Python. There are many more that can be imported with other libraries (more on that later). \n",
    "\n",
    "You can find out what type you're working with using the ```type()``` function:\n",
    "\n",
    "```python\n",
    "type(my_var)\n",
    "```"
   ]
  },
  {
   "cell_type": "code",
   "execution_count": 95,
   "metadata": {},
   "outputs": [
    {
     "data": {
      "text/plain": [
       "str"
      ]
     },
     "execution_count": 95,
     "metadata": {},
     "output_type": "execute_result"
    }
   ],
   "source": [
    "type(my_var)"
   ]
  },
  {
   "cell_type": "markdown",
   "metadata": {},
   "source": [
    "That's a string. Strings are declared using single or double quotes (pretty much interchangeable).  \n",
    "\n",
    "```python\n",
    "my_var2 = 1\n",
    "\n",
    "print(type(my_var2))\n",
    "```"
   ]
  },
  {
   "cell_type": "code",
   "execution_count": 14,
   "metadata": {},
   "outputs": [
    {
     "name": "stdout",
     "output_type": "stream",
     "text": [
      "<class 'int'>\n"
     ]
    }
   ],
   "source": [
    "my_var2 = 1\n",
    "\n",
    "print(type(my_var2))"
   ]
  },
  {
   "cell_type": "markdown",
   "metadata": {},
   "source": [
    "Just some useful string methods: \n",
    "\n",
    "```len()```\n",
    "```.split()```\n",
    "```.replace()```\n",
    "```.lower()```\n",
    "```.upper()```\n",
    "```.startswith()```\n",
    "```.strip()```\n",
    "```.find()```  \n",
    "\n",
    "[More](https://www.w3schools.com/python/python_ref_string.asp). \n",
    "\n",
    "Try a few:\n",
    "\n",
    "```python\n",
    "my_var.upper()\n",
    "```\n"
   ]
  },
  {
   "cell_type": "code",
   "execution_count": 79,
   "metadata": {},
   "outputs": [
    {
     "name": "stdout",
     "output_type": "stream",
     "text": [
      "hello you filthy animal! \n"
     ]
    }
   ],
   "source": [
    "my_var = 'hello world '\n",
    "\n",
    "print(my_var.replace('world','you filthy animal!'))"
   ]
  },
  {
   "cell_type": "markdown",
   "metadata": {},
   "source": [
    "Can we mix data types?  \n",
    "\n",
    "```python\n",
    "my_var + my_var2\n",
    "```"
   ]
  },
  {
   "cell_type": "code",
   "execution_count": 16,
   "metadata": {},
   "outputs": [
    {
     "ename": "TypeError",
     "evalue": "unsupported operand type(s) for +: 'int' and 'str'",
     "output_type": "error",
     "traceback": [
      "\u001b[1;31m---------------------------------------------------------------------------\u001b[0m",
      "\u001b[1;31mTypeError\u001b[0m                                 Traceback (most recent call last)",
      "Cell \u001b[1;32mIn[16], line 1\u001b[0m\n\u001b[1;32m----> 1\u001b[0m \u001b[43mmy_var2\u001b[49m\u001b[43m \u001b[49m\u001b[38;5;241;43m+\u001b[39;49m\u001b[43m \u001b[49m\u001b[43mmy_var\u001b[49m\n",
      "\u001b[1;31mTypeError\u001b[0m: unsupported operand type(s) for +: 'int' and 'str'"
     ]
    }
   ],
   "source": [
    "my_var2 + my_var"
   ]
  },
  {
   "cell_type": "markdown",
   "metadata": {},
   "source": [
    "```python\n",
    "my_var + \", it's me.\"\n",
    "```"
   ]
  },
  {
   "cell_type": "code",
   "execution_count": 18,
   "metadata": {},
   "outputs": [
    {
     "data": {
      "text/plain": [
       "\"hello world, it's me, Phil.\""
      ]
     },
     "execution_count": 18,
     "metadata": {},
     "output_type": "execute_result"
    }
   ],
   "source": [
    "my_var + \", it's me, Phil.\""
   ]
  },
  {
   "cell_type": "markdown",
   "metadata": {},
   "source": [
    "```python\n",
    "my_var2 + 5\n",
    "```"
   ]
  },
  {
   "cell_type": "code",
   "execution_count": 20,
   "metadata": {},
   "outputs": [
    {
     "data": {
      "text/plain": [
       "6"
      ]
     },
     "execution_count": 20,
     "metadata": {},
     "output_type": "execute_result"
    }
   ],
   "source": [
    "my_var2 + 5"
   ]
  },
  {
   "cell_type": "markdown",
   "metadata": {},
   "source": [
    "__________________\n",
    "\n",
    "#### Operators:\n",
    "[There are many](https://www.w3schools.com/python/python_operators.asp).\n",
    "\n",
    "**Arithmetic** pretty much behave as you would think:  \n",
    "```+```, ```-```, ```*```, ```/```, as well as  ```**``` exponential, ```%``` modulus, ```//``` floor.   \n",
    "\n",
    "**Comparison**  \n",
    "```==``` equal, ```!=``` not equal, ```>```, ```>=```, ```<```, ```<=```  \n",
    "\n",
    "**Logical**  \n",
    "```and```, ```or```, ```not```\n"
   ]
  },
  {
   "cell_type": "code",
   "execution_count": 52,
   "metadata": {},
   "outputs": [
    {
     "data": {
      "text/plain": [
       "False"
      ]
     },
     "execution_count": 52,
     "metadata": {},
     "output_type": "execute_result"
    }
   ],
   "source": [
    "var1 = 1\n",
    "var2 = 'Chainsaw'\n",
    "\n",
    "var1 == 1 and var2 == 'screwdriver'"
   ]
  },
  {
   "cell_type": "markdown",
   "metadata": {},
   "source": [
    "*Bonus:* ```+=``` is very useful."
   ]
  },
  {
   "cell_type": "code",
   "execution_count": null,
   "metadata": {},
   "outputs": [],
   "source": []
  },
  {
   "cell_type": "code",
   "execution_count": null,
   "metadata": {},
   "outputs": [],
   "source": []
  },
  {
   "cell_type": "markdown",
   "metadata": {},
   "source": [
    "________\n",
    "\n",
    "\n",
    "### Control Flow:  \n",
    "Use ```if```, ```else```, and ```elif``` to control the flow of your process.  \n",
    "\n",
    "```python\n",
    "var1 = 1\n",
    "\n",
    "if var1 == 1: # boolean check if value equals 1\n",
    "    print('yes') # print yes if True \n",
    "else:\n",
    "    print('no') # print no if False\n",
    "```"
   ]
  },
  {
   "cell_type": "code",
   "execution_count": 94,
   "metadata": {},
   "outputs": [
    {
     "name": "stdout",
     "output_type": "stream",
     "text": [
      "yes\n"
     ]
    }
   ],
   "source": [
    "var1 = 2\n",
    "\n",
    "if var1 > 1:\n",
    "    print('yes')\n",
    "\n",
    "elif var1 < 3:\n",
    "    print('yes')\n",
    "\n",
    "else:\n",
    "    print('no')"
   ]
  },
  {
   "cell_type": "markdown",
   "metadata": {},
   "source": [
    "### Lists:  \n",
    "You create lists using brackets: ```[]```  \n",
    "\n",
    "```python\n",
    "my_list = ['a','b','c'] \n",
    "\n",
    "print(my_list)\n",
    "```"
   ]
  },
  {
   "cell_type": "code",
   "execution_count": 22,
   "metadata": {},
   "outputs": [
    {
     "name": "stdout",
     "output_type": "stream",
     "text": [
      "['a', 'b', 'c']\n"
     ]
    }
   ],
   "source": [
    "my_list = ['a','b','c']\n",
    "\n",
    "print(my_list)"
   ]
  },
  {
   "cell_type": "markdown",
   "metadata": {},
   "source": [
    "The ```.append()``` list method is very useful for populating lists:  \n",
    "\n",
    "Create an empty list:\n",
    "\n",
    "```python \n",
    "new_list = []\n",
    "```\n",
    "\n",
    "Then use append to add new items:\n",
    "\n",
    "```python\n",
    "new_list.append('item1')\n",
    "```"
   ]
  },
  {
   "cell_type": "code",
   "execution_count": 102,
   "metadata": {},
   "outputs": [],
   "source": [
    "new_list = []"
   ]
  },
  {
   "cell_type": "code",
   "execution_count": 105,
   "metadata": {},
   "outputs": [
    {
     "name": "stdout",
     "output_type": "stream",
     "text": [
      "['thingy', 'thingy2', 'thingy32']\n"
     ]
    }
   ],
   "source": [
    "new_list.append('thingy32')\n",
    "\n",
    "print(new_list)"
   ]
  },
  {
   "cell_type": "markdown",
   "metadata": {},
   "source": [
    "### Indexing!  \n",
    "Is very important! **Rule number 1**: Python indexing begins at zero. \n",
    "\n",
    "You also use brackets to access indexing. \n",
    "\n",
    "Try these:\n",
    "\n",
    "```python\n",
    "my_list[0]\n",
    "\n",
    "my_list[1]\n",
    "\n",
    "my_list[3]\n",
    "```\n",
    "\n"
   ]
  },
  {
   "cell_type": "code",
   "execution_count": 26,
   "metadata": {},
   "outputs": [
    {
     "data": {
      "text/plain": [
       "'a'"
      ]
     },
     "execution_count": 26,
     "metadata": {},
     "output_type": "execute_result"
    }
   ],
   "source": [
    "my_list[0]"
   ]
  },
  {
   "cell_type": "markdown",
   "metadata": {},
   "source": [
    "Now try on a string variable:  \n",
    "\n",
    "```python\n",
    "my_var[0]\n",
    "\n",
    "my_var[3]\n",
    "\n",
    "my_var[8]\n",
    "\n",
    "my_var[-1]\n",
    "```"
   ]
  },
  {
   "cell_type": "code",
   "execution_count": 28,
   "metadata": {},
   "outputs": [
    {
     "name": "stdout",
     "output_type": "stream",
     "text": [
      "hello world\n"
     ]
    },
    {
     "data": {
      "text/plain": [
       "'r'"
      ]
     },
     "execution_count": 28,
     "metadata": {},
     "output_type": "execute_result"
    }
   ],
   "source": [
    "print(my_var)\n",
    "\n",
    "my_var[8]"
   ]
  },
  {
   "cell_type": "markdown",
   "metadata": {},
   "source": [
    "Index slicing:  \n",
    "\n",
    "```python\n",
    "my_var[0:3]\n",
    "```\n",
    "\n",
    "First position is start, second position is one after you want it to stop... "
   ]
  },
  {
   "cell_type": "code",
   "execution_count": 40,
   "metadata": {},
   "outputs": [
    {
     "name": "stdout",
     "output_type": "stream",
     "text": [
      "what the hell?\n"
     ]
    }
   ],
   "source": [
    "print('what the ' + my_var[0:4]+'?')"
   ]
  },
  {
   "cell_type": "markdown",
   "metadata": {},
   "source": [
    "### Iteration \n",
    "One of the main reasons people learn to code is to make a computer do repetitive things. This is where looping comes into play.  \n",
    "\n",
    "There are two types of loops:\n",
    "- ```for``` loops repeat a set number of types.\n",
    "- ```while``` loops repeat until a condition is met.  \n",
    "\n",
    "```for``` loops:\n",
    "\n",
    "```python \n",
    "my_nums = [1,2,3,4,5]\n",
    "\n",
    "for n in my_nums:\n",
    "    print(n)\n",
    "``` "
   ]
  },
  {
   "cell_type": "code",
   "execution_count": 2,
   "metadata": {},
   "outputs": [],
   "source": [
    "my_nums = [1,2,3,4,5]"
   ]
  },
  {
   "cell_type": "code",
   "execution_count": 7,
   "metadata": {},
   "outputs": [
    {
     "name": "stdout",
     "output_type": "stream",
     "text": [
      "1\n",
      "2\n",
      "3\n",
      "4\n",
      "5\n"
     ]
    }
   ],
   "source": [
    "for n in my_nums:\n",
    "    print(n)"
   ]
  },
  {
   "cell_type": "code",
   "execution_count": 8,
   "metadata": {},
   "outputs": [
    {
     "name": "stdout",
     "output_type": "stream",
     "text": [
      "2\n",
      "4\n",
      "6\n",
      "8\n",
      "10\n"
     ]
    }
   ],
   "source": [
    "for n in my_nums:\n",
    "    # try some stuff!\n",
    "    \n",
    "    print(n)\n"
   ]
  },
  {
   "cell_type": "markdown",
   "metadata": {},
   "source": []
  },
  {
   "cell_type": "code",
   "execution_count": 13,
   "metadata": {},
   "outputs": [
    {
     "data": {
      "text/plain": [
       "[1, 2, 3, 4, 5]"
      ]
     },
     "execution_count": 13,
     "metadata": {},
     "output_type": "execute_result"
    }
   ],
   "source": [
    "my_nums"
   ]
  },
  {
   "cell_type": "code",
   "execution_count": 10,
   "metadata": {},
   "outputs": [
    {
     "data": {
      "text/plain": [
       "range(0, 5)"
      ]
     },
     "execution_count": 10,
     "metadata": {},
     "output_type": "execute_result"
    }
   ],
   "source": [
    "range(len(my_nums))"
   ]
  },
  {
   "cell_type": "code",
   "execution_count": 12,
   "metadata": {},
   "outputs": [
    {
     "name": "stdout",
     "output_type": "stream",
     "text": [
      "0 1\n",
      "1 2\n",
      "2 3\n",
      "3 4\n",
      "4 5\n"
     ]
    }
   ],
   "source": [
    "for i in range(len(my_nums)):\n",
    "    print(i, my_nums[i])"
   ]
  },
  {
   "cell_type": "code",
   "execution_count": 14,
   "metadata": {},
   "outputs": [
    {
     "name": "stdout",
     "output_type": "stream",
     "text": [
      "[3, 4, 5, 6, 7]\n"
     ]
    }
   ],
   "source": [
    "for i in range(len(my_nums)):\n",
    "    my_nums[i] += 2\n",
    "print(my_nums) "
   ]
  },
  {
   "cell_type": "markdown",
   "metadata": {},
   "source": []
  },
  {
   "cell_type": "markdown",
   "metadata": {},
   "source": [
    "**Challenge!** Usering the ```.append()``` method, loop over the my_nums list and populate a new list with these values: ```[2,4,6,8,10]```  \n",
    "\n",
    "*Bonus: make the list values string types*"
   ]
  },
  {
   "cell_type": "code",
   "execution_count": null,
   "metadata": {},
   "outputs": [],
   "source": [
    "new_list = []\n",
    "\n",
    "for n in my_nums:\n",
    "    # put your code here"
   ]
  },
  {
   "cell_type": "markdown",
   "metadata": {},
   "source": [
    "```while``` loops:  \n",
    "\n",
    "Repeat a process while a condition is True.  \n",
    "\n",
    "```python\n",
    "num = 0\n",
    "```  \n",
    "\n",
    "```python\n",
    "while num < 10:\n",
    "    num = num + 1\n",
    "    print(num)\n",
    "```"
   ]
  },
  {
   "cell_type": "code",
   "execution_count": 118,
   "metadata": {},
   "outputs": [],
   "source": [
    "num = 0"
   ]
  },
  {
   "cell_type": "code",
   "execution_count": 120,
   "metadata": {},
   "outputs": [
    {
     "name": "stdout",
     "output_type": "stream",
     "text": [
      "1\n",
      "2\n",
      "3\n",
      "4\n",
      "5\n",
      "6\n",
      "7\n",
      "8\n",
      "9\n",
      "10\n"
     ]
    }
   ],
   "source": [
    "num = 0\n",
    "\n",
    "while num < 10:\n",
    "    num = num + 1\n",
    "    print(num)"
   ]
  },
  {
   "cell_type": "markdown",
   "metadata": {},
   "source": [
    "### Imports  \n",
    "There are thousands of libraries (aka packages aka modules) that you can load. Some come with your standard Python installation, while others you can easily install into your Python environment.  \n",
    "\n",
    "Let's import a module:  \n",
    "\n",
    "```python \n",
    "import time\n",
    "```"
   ]
  },
  {
   "cell_type": "code",
   "execution_count": 116,
   "metadata": {},
   "outputs": [],
   "source": [
    "import time"
   ]
  },
  {
   "cell_type": "markdown",
   "metadata": {},
   "source": [
    "Modules have lots of sub-modules (ahem... **classes**) that you can access:  \n",
    "\n",
    "```python \n",
    "time.time()\n",
    "```"
   ]
  },
  {
   "cell_type": "code",
   "execution_count": 138,
   "metadata": {},
   "outputs": [
    {
     "data": {
      "text/plain": [
       "'Thu Aug  1 15:36:00 2024'"
      ]
     },
     "execution_count": 138,
     "metadata": {},
     "output_type": "execute_result"
    }
   ],
   "source": [
    "time.asctime()"
   ]
  },
  {
   "cell_type": "markdown",
   "metadata": {},
   "source": [
    "You can also import only one class of a module like this:  \n",
    "\n",
    "```python\n",
    "from time import asctime\n",
    "```"
   ]
  },
  {
   "cell_type": "code",
   "execution_count": 140,
   "metadata": {},
   "outputs": [],
   "source": [
    "from time import asctime"
   ]
  },
  {
   "cell_type": "code",
   "execution_count": 142,
   "metadata": {},
   "outputs": [
    {
     "data": {
      "text/plain": [
       "'Thu Aug  1 15:38:47 2024'"
      ]
     },
     "execution_count": 142,
     "metadata": {},
     "output_type": "execute_result"
    }
   ],
   "source": [
    "asctime()"
   ]
  },
  {
   "cell_type": "markdown",
   "metadata": {},
   "source": [
    "**Challenge!** Incorporate [```time.sleep()```](https://docs.python.org/3/library/time.html#time.sleep) into our ```while``` loop to to count to ten in 10 seconds exactly:"
   ]
  },
  {
   "cell_type": "code",
   "execution_count": 146,
   "metadata": {},
   "outputs": [
    {
     "name": "stdout",
     "output_type": "stream",
     "text": [
      "1\n",
      "2\n",
      "3\n",
      "4\n",
      "5\n",
      "6\n",
      "7\n",
      "8\n",
      "9\n",
      "10\n"
     ]
    }
   ],
   "source": [
    "num = 0\n",
    "\n",
    "while num < 10:\n",
    "    time.sleep(1)\n",
    "    num += 1\n",
    "    print(num)\n",
    "    "
   ]
  },
  {
   "cell_type": "code",
   "execution_count": null,
   "metadata": {},
   "outputs": [],
   "source": []
  }
 ],
 "metadata": {
  "kernelspec": {
   "display_name": "datacamp",
   "language": "python",
   "name": "python3"
  },
  "language_info": {
   "codemirror_mode": {
    "name": "ipython",
    "version": 3
   },
   "file_extension": ".py",
   "mimetype": "text/x-python",
   "name": "python",
   "nbconvert_exporter": "python",
   "pygments_lexer": "ipython3",
   "version": "3.12.4"
  }
 },
 "nbformat": 4,
 "nbformat_minor": 2
}
