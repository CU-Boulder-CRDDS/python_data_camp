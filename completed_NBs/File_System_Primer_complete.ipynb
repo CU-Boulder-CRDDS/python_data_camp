{
 "cells": [
  {
   "cell_type": "markdown",
   "metadata": {},
   "source": [
    "## Primer: Navigating the File System and Basic Read/Write  \n",
    "\n",
    "Understanding how to navigate the file system of your computer's operating system is essential, and it's a common source of errors for beginners (ahem.. as well as experience) Python programmers.  \n",
    "\n",
    "Let's walk through some basics.  \n",
    "\n",
    "**Nomenclature**  \n",
    "*Working Directory* refers to your current directory or folder. \n",
    "\n",
    "We'll start by making a variable of our current working directory. \n",
    "\n",
    "```python\n",
    "dir = 'C:\\Users\\phwh9568\\Workshops\\Python_Data_Camp' # this is mine, but yours will look different\n",
    "```"
   ]
  },
  {
   "cell_type": "code",
   "execution_count": 44,
   "metadata": {},
   "outputs": [
    {
     "ename": "SyntaxError",
     "evalue": "(unicode error) 'unicodeescape' codec can't decode bytes in position 2-3: truncated \\UXXXXXXXX escape (270145198.py, line 1)",
     "output_type": "error",
     "traceback": [
      "\u001b[1;36m  Cell \u001b[1;32mIn[44], line 1\u001b[1;36m\u001b[0m\n\u001b[1;33m    dir = 'C:\\Users\\phwh9568\\Workshops\\Python_Data_Camp'\u001b[0m\n\u001b[1;37m          ^\u001b[0m\n\u001b[1;31mSyntaxError\u001b[0m\u001b[1;31m:\u001b[0m (unicode error) 'unicodeescape' codec can't decode bytes in position 2-3: truncated \\UXXXXXXXX escape\n"
     ]
    }
   ],
   "source": [
    "dir = 'C:\\Users\\phwh9568\\Workshops\\Python_Data_Camp'"
   ]
  },
  {
   "cell_type": "markdown",
   "metadata": {},
   "source": [
    "Oops! What is going on here?  Did anyone ***not*** get this error?  \n",
    "\n",
    "```python\n",
    "print('test\\test')\n",
    "```"
   ]
  },
  {
   "cell_type": "code",
   "execution_count": 3,
   "metadata": {},
   "outputs": [
    {
     "name": "stdout",
     "output_type": "stream",
     "text": [
      "test\test\n"
     ]
    }
   ],
   "source": [
    "print('test\\test')"
   ]
  },
  {
   "cell_type": "markdown",
   "metadata": {},
   "source": [
    "Hm.... Turns out ```\\``` is an escape character.  \n",
    "\n",
    "What is an [escape character](https://www.w3schools.com/python/gloss_python_escape_characters.asp)?  \n",
    "\n",
    "```python\n",
    "print('test\\test')\n",
    "print('test\\ttest')\n",
    "print('test\\ntest')\n",
    "```"
   ]
  },
  {
   "cell_type": "code",
   "execution_count": 4,
   "metadata": {},
   "outputs": [
    {
     "name": "stdout",
     "output_type": "stream",
     "text": [
      "test\test\n"
     ]
    }
   ],
   "source": [
    "print('test\\test')"
   ]
  },
  {
   "cell_type": "markdown",
   "metadata": {},
   "source": [
    "```python\n",
    "print('Hi, what's your name?')\n",
    "print(\"Hi, what's your name?\")\n",
    "print('Hi, what\\'s your name?')\n",
    "```"
   ]
  },
  {
   "cell_type": "code",
   "execution_count": 5,
   "metadata": {},
   "outputs": [
    {
     "name": "stdout",
     "output_type": "stream",
     "text": [
      "Hi, what's your name\n"
     ]
    }
   ],
   "source": [
    "print(\"Hi, what's your name\")"
   ]
  },
  {
   "cell_type": "markdown",
   "metadata": {},
   "source": [
    "Microsoft just doesn't want to make things easy on us...  \n",
    "\n",
    "For Windows users, there are a couple of ways to get through this:\n",
    "\n",
    "```python\n",
    "dir = 'C:\\\\Users\\\\phwh9568\\\\Workshops\\\\Python_Data_Camp' # annoying\n",
    "```"
   ]
  },
  {
   "cell_type": "code",
   "execution_count": 6,
   "metadata": {},
   "outputs": [],
   "source": [
    "dir = 'C:\\\\Users\\\\phwh9568\\\\Workshops\\\\Python_Data_Camp'"
   ]
  },
  {
   "cell_type": "markdown",
   "metadata": {},
   "source": [
    "**Now**, where were we?  \n",
    "\n",
    "Okay, there are some differences worth noting about how paths work on Windows vs Mac.  \n",
    "\n",
    "```\\``` is a back slash. Windows uses back slashes.  \n",
    "```/``` is a forward slash. Mac and Linux use forward slashes.  \n",
    "\n",
    "*Why*, Microsoft? ***WHY?!?!?!***  \n",
    "\n",
    "However, rather than ```\\\\```, there is an easier way that can also make your file paths more interoperable:  \n",
    "\n",
    "```python\n",
    "dir = r'C:/Users/phwh9568/Workshops/Python_Data_Camp' \n",
    "```  \n",
    "The ```r''``` syntax is called a raw string. "
   ]
  },
  {
   "cell_type": "code",
   "execution_count": 7,
   "metadata": {},
   "outputs": [],
   "source": [
    "dir = r'C:/Users/phwh9568/Workshops/Python_Data_Camp'"
   ]
  },
  {
   "cell_type": "markdown",
   "metadata": {},
   "source": [
    "### Let's now read a file.  \n",
    "\n",
    "For now, use string concatenation to construct the full path to a file:  \n",
    "\n",
    "```python\n",
    "file = r'C:/Users/phwh9568/Workshops/Python_Data_Camp' + r'/data/demofile.txt'\n",
    "```  \n",
    "\n",
    "Watch out for typos... "
   ]
  },
  {
   "cell_type": "code",
   "execution_count": 8,
   "metadata": {},
   "outputs": [],
   "source": [
    "file = r'C:/Users/phwh9568/Workshops/Python_Data_Camp' + r'/data/demofile.txt'"
   ]
  },
  {
   "cell_type": "markdown",
   "metadata": {},
   "source": [
    "Now, we'll open that file using the ```open()``` function. The first parameter is our file path, the second parameter ```'r'``` indicates we're opening in read mode:  \n",
    "\n",
    "```python\n",
    "open(file, 'r') \n",
    "```"
   ]
  },
  {
   "cell_type": "code",
   "execution_count": 9,
   "metadata": {},
   "outputs": [
    {
     "data": {
      "text/plain": [
       "<_io.TextIOWrapper name='C:/Users/phwh9568/Workshops/Python_Data_Camp/data/demofile.txt' mode='r' encoding='utf-8'>"
      ]
     },
     "execution_count": 9,
     "metadata": {},
     "output_type": "execute_result"
    }
   ],
   "source": [
    "open(file,'r')"
   ]
  },
  {
   "cell_type": "markdown",
   "metadata": {},
   "source": [
    "Okay, so not much happenning there... let's call it to a variable:  \n",
    "\n",
    "```python\n",
    "data = open(file,'r')\n",
    "```"
   ]
  },
  {
   "cell_type": "code",
   "execution_count": 10,
   "metadata": {},
   "outputs": [],
   "source": [
    "data = open(file,'r')"
   ]
  },
  {
   "cell_type": "markdown",
   "metadata": {},
   "source": [
    "Okay, let's use the ```.read()``` method:  \n",
    "\n",
    "```python\n",
    "data.read()\n",
    "```"
   ]
  },
  {
   "cell_type": "code",
   "execution_count": 11,
   "metadata": {},
   "outputs": [
    {
     "data": {
      "text/plain": [
       "'10\\n20\\n30\\n40\\n50\\n60\\n70\\n80\\n90\\n100\\n'"
      ]
     },
     "execution_count": 11,
     "metadata": {},
     "output_type": "execute_result"
    }
   ],
   "source": [
    "data.read()"
   ]
  },
  {
   "cell_type": "markdown",
   "metadata": {},
   "source": [
    "What's going on here?  \n",
    "\n",
    "Now, let's try one line at a time...  \n",
    "\n",
    "```python\n",
    "data.readline()\n",
    "``` "
   ]
  },
  {
   "cell_type": "code",
   "execution_count": 12,
   "metadata": {},
   "outputs": [
    {
     "data": {
      "text/plain": [
       "''"
      ]
     },
     "execution_count": 12,
     "metadata": {},
     "output_type": "execute_result"
    }
   ],
   "source": [
    "data.readline()"
   ]
  },
  {
   "cell_type": "markdown",
   "metadata": {},
   "source": [
    "Hm.  \n",
    "\n",
    "In Python, when reading simple files, often you read line by line, and we happened to read them all in one go. So, we need to go back to the top:  \n",
    "\n",
    "```python\n",
    "data.seek(0) #Why the 0?\n",
    "```"
   ]
  },
  {
   "cell_type": "code",
   "execution_count": 13,
   "metadata": {},
   "outputs": [
    {
     "data": {
      "text/plain": [
       "0"
      ]
     },
     "execution_count": 13,
     "metadata": {},
     "output_type": "execute_result"
    }
   ],
   "source": [
    "data.seek(0)"
   ]
  },
  {
   "cell_type": "code",
   "execution_count": 16,
   "metadata": {},
   "outputs": [
    {
     "data": {
      "text/plain": [
       "'30\\n'"
      ]
     },
     "execution_count": 16,
     "metadata": {},
     "output_type": "execute_result"
    }
   ],
   "source": [
    "data.readline()"
   ]
  },
  {
   "cell_type": "markdown",
   "metadata": {},
   "source": [
    "Let's close the file. It is good practice to *always* close your files when you're done manipulating them:  \n",
    "\n",
    "```python\n",
    "data.close()\n",
    "```"
   ]
  },
  {
   "cell_type": "code",
   "execution_count": 17,
   "metadata": {},
   "outputs": [],
   "source": [
    "data.close()"
   ]
  },
  {
   "cell_type": "markdown",
   "metadata": {},
   "source": [
    "Okay, we'll come back to reading/writing files in a few minutes...   \n",
    "\n",
    "\n",
    "### Making paths easier: the OS module.  \n",
    "\n",
    "Now that you have a fundamental understanding of paths, let's streamline.  \n",
    "\n",
    "```python\n",
    "import os\n",
    "```"
   ]
  },
  {
   "cell_type": "code",
   "execution_count": 18,
   "metadata": {},
   "outputs": [],
   "source": [
    "import os"
   ]
  },
  {
   "cell_type": "markdown",
   "metadata": {},
   "source": [
    "OS is an extremely useful module for helping navigate your file system. \n",
    "\n",
    "It is useful for creating paths, checking the existence of files or directories, checking your current working directory, generating lists of files, and more.  \n",
    "\n",
    "Rather than typing out paths manually (and risk typos and slash issues), we can have os construct them for us.  \n",
    "\n",
    "Let's start with some variables:  \n",
    "\n",
    "```python\n",
    "proj_dir = r'C:/Users/phwh9568/Workshops/Python_Data_Camp'\n",
    "fileName = 'demofile.txt'\n",
    "```"
   ]
  },
  {
   "cell_type": "code",
   "execution_count": 21,
   "metadata": {},
   "outputs": [],
   "source": [
    "proj_dir = r'C:/Users/phwh9568/Workshops/Python_Data_Camp'\n",
    "fileName = 'demofile.txt' "
   ]
  },
  {
   "cell_type": "markdown",
   "metadata": {},
   "source": [
    "We'll construct our file path using ```os.path.join()```:  \n",
    "\n",
    "First make a data directory variable:\n",
    "```python\n",
    "data_dir = os.path.join(proj_dir,'data')\n",
    "```  \n",
    "\n",
    "Then make the path to the file:  \n",
    "```python\n",
    "f = os.path.join(data_dir,fileName)\n",
    "```"
   ]
  },
  {
   "cell_type": "code",
   "execution_count": 22,
   "metadata": {},
   "outputs": [],
   "source": [
    "data_dir = os.path.join(proj_dir,'data')"
   ]
  },
  {
   "cell_type": "code",
   "execution_count": 23,
   "metadata": {},
   "outputs": [],
   "source": [
    "f = os.path.join(data_dir,fileName)"
   ]
  },
  {
   "cell_type": "markdown",
   "metadata": {},
   "source": [
    "Check to see if it exists:  \n",
    "\n",
    "```python\n",
    "os.path.exits(f)\n",
    "```"
   ]
  },
  {
   "cell_type": "code",
   "execution_count": 24,
   "metadata": {},
   "outputs": [
    {
     "data": {
      "text/plain": [
       "True"
      ]
     },
     "execution_count": 24,
     "metadata": {},
     "output_type": "execute_result"
    }
   ],
   "source": [
    "os.path.exists(f)"
   ]
  },
  {
   "cell_type": "markdown",
   "metadata": {},
   "source": [
    "tip: There are a lot of other useful OS functions and methods, including [```os.mkdir()```](https://docs.python.org/3/library/os.html#os.mkdir) and ```os.getcwd()```.  \n",
    "\n",
    "\n",
    "Let's check to make sure that all works:  \n",
    "\n",
    "1. Print the path to make sure it looks right\n",
    "2. Open the file\n",
    "3. Read the contents of the file\n",
    "4. Close the file"
   ]
  },
  {
   "cell_type": "code",
   "execution_count": 25,
   "metadata": {},
   "outputs": [
    {
     "name": "stdout",
     "output_type": "stream",
     "text": [
      "C:/Users/phwh9568/Workshops/Python_Data_Camp\\data\\demofile.txt\n"
     ]
    }
   ],
   "source": [
    "print(f)"
   ]
  },
  {
   "cell_type": "code",
   "execution_count": 26,
   "metadata": {},
   "outputs": [],
   "source": [
    "data = open(f)"
   ]
  },
  {
   "cell_type": "code",
   "execution_count": 27,
   "metadata": {},
   "outputs": [
    {
     "data": {
      "text/plain": [
       "'10\\n20\\n30\\n40\\n50\\n60\\n70\\n80\\n90\\n100\\n'"
      ]
     },
     "execution_count": 27,
     "metadata": {},
     "output_type": "execute_result"
    }
   ],
   "source": [
    "data.read()"
   ]
  },
  {
   "cell_type": "code",
   "execution_count": 28,
   "metadata": {},
   "outputs": [],
   "source": [
    "data.close()"
   ]
  },
  {
   "cell_type": "markdown",
   "metadata": {},
   "source": [
    "Let's open it this time in write mode:  \n",
    "\n",
    "```python\n",
    "data = open(f,'w')\n",
    "```"
   ]
  },
  {
   "cell_type": "code",
   "execution_count": 29,
   "metadata": {},
   "outputs": [],
   "source": [
    "data = open(f,'w')"
   ]
  },
  {
   "cell_type": "code",
   "execution_count": 30,
   "metadata": {},
   "outputs": [
    {
     "ename": "UnsupportedOperation",
     "evalue": "not readable",
     "output_type": "error",
     "traceback": [
      "\u001b[1;31m---------------------------------------------------------------------------\u001b[0m",
      "\u001b[1;31mUnsupportedOperation\u001b[0m                      Traceback (most recent call last)",
      "Cell \u001b[1;32mIn[30], line 1\u001b[0m\n\u001b[1;32m----> 1\u001b[0m \u001b[43mdata\u001b[49m\u001b[38;5;241;43m.\u001b[39;49m\u001b[43mread\u001b[49m\u001b[43m(\u001b[49m\u001b[43m)\u001b[49m\n",
      "\u001b[1;31mUnsupportedOperation\u001b[0m: not readable"
     ]
    }
   ],
   "source": [
    "data.read()"
   ]
  },
  {
   "cell_type": "markdown",
   "metadata": {},
   "source": [
    "Hm....   \n",
    "\n",
    "\n",
    "\n",
    "Okay, not readable....  \n",
    "\n",
    "Let's write a new line:  \n",
    "\n",
    "```python\n",
    "data.write('test')"
   ]
  },
  {
   "cell_type": "code",
   "execution_count": 31,
   "metadata": {},
   "outputs": [
    {
     "data": {
      "text/plain": [
       "4"
      ]
     },
     "execution_count": 31,
     "metadata": {},
     "output_type": "execute_result"
    }
   ],
   "source": [
    "data.write('test')"
   ]
  },
  {
   "cell_type": "code",
   "execution_count": 32,
   "metadata": {},
   "outputs": [],
   "source": [
    "data.close()"
   ]
  },
  {
   "cell_type": "markdown",
   "metadata": {},
   "source": [
    "Open demofile.txt separately... what happened here?  \n",
    "  \n",
    "  \n",
    "  \n",
    "  \n",
    "  \n",
    "Woops.  Got to be careful when using write mode! There can be unintended consequences.\n",
    "\n",
    "\n",
    "Let's fix it. Start with a list of the values we want:  \n",
    "\n",
    "```python\n",
    "numList = [10,20,30,40,50,60,70,80,90,100]\n",
    "```"
   ]
  },
  {
   "cell_type": "code",
   "execution_count": 33,
   "metadata": {},
   "outputs": [],
   "source": [
    "numList = [10,20,30,40,50,60,70,80,90,100]"
   ]
  },
  {
   "cell_type": "markdown",
   "metadata": {},
   "source": [
    "Or, alternatively, you could construct this using the [```range()```](https://www.w3schools.com/python/ref_func_range.asp) function. "
   ]
  },
  {
   "cell_type": "code",
   "execution_count": 34,
   "metadata": {},
   "outputs": [
    {
     "data": {
      "text/plain": [
       "[0, 10, 20, 30, 40, 50, 60, 70, 80, 90]"
      ]
     },
     "execution_count": 34,
     "metadata": {},
     "output_type": "execute_result"
    }
   ],
   "source": [
    "list(range(0,100,10))"
   ]
  },
  {
   "cell_type": "markdown",
   "metadata": {},
   "source": [
    "Now open our file again in write mode:  \n",
    "\n",
    "```python\n",
    "data = open(f,'w')\n",
    "```"
   ]
  },
  {
   "cell_type": "code",
   "execution_count": 35,
   "metadata": {},
   "outputs": [],
   "source": [
    "data = open(f,'w')"
   ]
  },
  {
   "cell_type": "markdown",
   "metadata": {},
   "source": [
    "Start by constructing a loop of our number list:  \n",
    "\n",
    "```python\n",
    "for n in numList:\n",
    "    print(n)\n",
    "```"
   ]
  },
  {
   "cell_type": "code",
   "execution_count": 36,
   "metadata": {},
   "outputs": [
    {
     "name": "stdout",
     "output_type": "stream",
     "text": [
      "10\n",
      "20\n",
      "30\n",
      "40\n",
      "50\n",
      "60\n",
      "70\n",
      "80\n",
      "90\n",
      "100\n"
     ]
    }
   ],
   "source": [
    "for n in numList:\n",
    "    print(n)"
   ]
  },
  {
   "cell_type": "markdown",
   "metadata": {},
   "source": [
    "Let's try adding the ```.write()``` method into our loop:"
   ]
  },
  {
   "cell_type": "code",
   "execution_count": 37,
   "metadata": {},
   "outputs": [
    {
     "ename": "AttributeError",
     "evalue": "'str' object has no attribute 'write'",
     "output_type": "error",
     "traceback": [
      "\u001b[1;31m---------------------------------------------------------------------------\u001b[0m",
      "\u001b[1;31mAttributeError\u001b[0m                            Traceback (most recent call last)",
      "Cell \u001b[1;32mIn[37], line 2\u001b[0m\n\u001b[0;32m      1\u001b[0m \u001b[38;5;28;01mfor\u001b[39;00m n \u001b[38;5;129;01min\u001b[39;00m numList:\n\u001b[1;32m----> 2\u001b[0m     \u001b[43mf\u001b[49m\u001b[38;5;241;43m.\u001b[39;49m\u001b[43mwrite\u001b[49m(n)\n\u001b[0;32m      4\u001b[0m f\u001b[38;5;241m.\u001b[39mclose()\n",
      "\u001b[1;31mAttributeError\u001b[0m: 'str' object has no attribute 'write'"
     ]
    }
   ],
   "source": [
    "for n in numList:\n",
    "    f.write(n)\n",
    "\n",
    "f.close()"
   ]
  },
  {
   "cell_type": "markdown",
   "metadata": {},
   "source": [
    "Oops... needs to be a string. Okay...  \n",
    "\n",
    "We can use the ```str()``` function to convert to string.  \n",
    "\n",
    "Test it:  \n",
    "\n",
    "```python\n",
    "type(str(1))\n",
    "```"
   ]
  },
  {
   "cell_type": "code",
   "execution_count": 38,
   "metadata": {},
   "outputs": [
    {
     "data": {
      "text/plain": [
       "str"
      ]
     },
     "execution_count": 38,
     "metadata": {},
     "output_type": "execute_result"
    }
   ],
   "source": [
    "type(str(1))"
   ]
  },
  {
   "cell_type": "markdown",
   "metadata": {},
   "source": [
    "Okay, back to our loop:"
   ]
  },
  {
   "cell_type": "code",
   "execution_count": 39,
   "metadata": {},
   "outputs": [],
   "source": [
    "data = open(f,'w')\n",
    "\n",
    "for n in numList:\n",
    "    data.write(str(n))\n",
    "\n",
    "data.close()"
   ]
  },
  {
   "cell_type": "markdown",
   "metadata": {},
   "source": [
    "Did that work?  \n",
    "\n",
    "\n",
    "Ehhhhh... close but not quite. What is missing here?  \n",
    "\n",
    "\n"
   ]
  },
  {
   "cell_type": "code",
   "execution_count": 40,
   "metadata": {},
   "outputs": [
    {
     "name": "stdout",
     "output_type": "stream",
     "text": [
      "test\n",
      "test\n"
     ]
    }
   ],
   "source": [
    "print('test\\ntest')"
   ]
  },
  {
   "cell_type": "markdown",
   "metadata": {},
   "source": [
    "Try again:"
   ]
  },
  {
   "cell_type": "code",
   "execution_count": 41,
   "metadata": {},
   "outputs": [],
   "source": [
    "data = open(f,'w')\n",
    "\n",
    "for n in numList:\n",
    "    data.write(str(n)+'\\n')\n",
    "\n",
    "data.close()"
   ]
  },
  {
   "cell_type": "markdown",
   "metadata": {},
   "source": [
    "Or, alternatively, you will often see files opened using a ```with``` statement.  This closes the file automatically when the statement ends.  \n",
    "```python\n",
    "with open(os.path.join(data_dir,fileName), 'w') as f:\n",
    "    for n in numList:\n",
    "        f.write(str(n)+'\\n')\n",
    "```"
   ]
  },
  {
   "cell_type": "code",
   "execution_count": 43,
   "metadata": {},
   "outputs": [],
   "source": [
    "with open(os.path.join(data_dir,fileName), 'w') as f:\n",
    "    for n in numList:\n",
    "        f.write(str(n)+'\\n')"
   ]
  }
 ],
 "metadata": {
  "kernelspec": {
   "display_name": "Python 3 (ipykernel)",
   "language": "python",
   "name": "python3"
  },
  "language_info": {
   "codemirror_mode": {
    "name": "ipython",
    "version": 3
   },
   "file_extension": ".py",
   "mimetype": "text/x-python",
   "name": "python",
   "nbconvert_exporter": "python",
   "pygments_lexer": "ipython3",
   "version": "3.12.4"
  }
 },
 "nbformat": 4,
 "nbformat_minor": 4
}
